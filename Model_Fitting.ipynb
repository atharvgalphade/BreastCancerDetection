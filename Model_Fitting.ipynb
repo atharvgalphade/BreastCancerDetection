{
 "cells": [
  {
   "cell_type": "markdown",
   "id": "77281e9e-804c-4518-8f85-8341ef1fd9f2",
   "metadata": {},
   "source": [
    "# Assignment 6\n",
    "## Atharva Sripaad Galphade U25922351\n",
    "\n",
    "#### Model Fitting on pre-processed dataset"
   ]
  },
  {
   "cell_type": "markdown",
   "id": "70617e66-8812-4d32-af14-c92d5a6559f5",
   "metadata": {},
   "source": [
    "Importing important libraries"
   ]
  },
  {
   "cell_type": "code",
   "execution_count": 72,
   "id": "599a79d3-2b54-494c-a368-da248ac239aa",
   "metadata": {
    "tags": []
   },
   "outputs": [],
   "source": [
    "import pandas as pd\n",
    "import numpy as np\n",
    "np.random.seed(42)\n",
    "import matplotlib.pyplot as plt\n",
    "from sklearn.tree import DecisionTreeClassifier\n",
    "from sklearn.svm import SVC\n",
    "from sklearn import linear_model\n",
    "from sklearn import preprocessing \n",
    "from sklearn.ensemble import RandomForestClassifier,AdaBoostClassifier\n",
    "from sklearn.metrics import accuracy_score, precision_score, recall_score, f1_score, classification_report,confusion_matrix\n",
    "from sklearn.model_selection import train_test_split, cross_val_score, GridSearchCV,RandomizedSearchCV\n",
    "from sklearn.metrics import RocCurveDisplay"
   ]
  },
  {
   "cell_type": "markdown",
   "id": "76687f6e-22ad-4167-8c06-97ce415828be",
   "metadata": {},
   "source": [
    "Reading the pre-processed dataset"
   ]
  },
  {
   "cell_type": "code",
   "execution_count": 20,
   "id": "57b87b16-f28f-41db-9563-fd8961f62d48",
   "metadata": {
    "tags": []
   },
   "outputs": [
    {
     "data": {
      "text/html": [
       "<div>\n",
       "<style scoped>\n",
       "    .dataframe tbody tr th:only-of-type {\n",
       "        vertical-align: middle;\n",
       "    }\n",
       "\n",
       "    .dataframe tbody tr th {\n",
       "        vertical-align: top;\n",
       "    }\n",
       "\n",
       "    .dataframe thead th {\n",
       "        text-align: right;\n",
       "    }\n",
       "</style>\n",
       "<table border=\"1\" class=\"dataframe\">\n",
       "  <thead>\n",
       "    <tr style=\"text-align: right;\">\n",
       "      <th></th>\n",
       "      <th>Unnamed: 0</th>\n",
       "      <th>radius_mean</th>\n",
       "      <th>texture_mean</th>\n",
       "      <th>perimeter_mean</th>\n",
       "      <th>area_mean</th>\n",
       "      <th>smoothness_mean</th>\n",
       "      <th>compactness_mean</th>\n",
       "      <th>concavity_mean</th>\n",
       "      <th>concave points_mean</th>\n",
       "      <th>symmetry_mean</th>\n",
       "      <th>...</th>\n",
       "      <th>texture_worst</th>\n",
       "      <th>perimeter_worst</th>\n",
       "      <th>area_worst</th>\n",
       "      <th>smoothness_worst</th>\n",
       "      <th>compactness_worst</th>\n",
       "      <th>concavity_worst</th>\n",
       "      <th>concave points_worst</th>\n",
       "      <th>symmetry_worst</th>\n",
       "      <th>fractal_dimension_worst</th>\n",
       "      <th>diagnosis_M</th>\n",
       "    </tr>\n",
       "  </thead>\n",
       "  <tbody>\n",
       "    <tr>\n",
       "      <th>0</th>\n",
       "      <td>0</td>\n",
       "      <td>17.99</td>\n",
       "      <td>10.38</td>\n",
       "      <td>122.80</td>\n",
       "      <td>1001.0</td>\n",
       "      <td>0.11840</td>\n",
       "      <td>0.27760</td>\n",
       "      <td>0.3001</td>\n",
       "      <td>0.14710</td>\n",
       "      <td>0.2419</td>\n",
       "      <td>...</td>\n",
       "      <td>17.33</td>\n",
       "      <td>184.60</td>\n",
       "      <td>2019.0</td>\n",
       "      <td>0.1622</td>\n",
       "      <td>0.6656</td>\n",
       "      <td>0.7119</td>\n",
       "      <td>0.2654</td>\n",
       "      <td>0.4601</td>\n",
       "      <td>0.11890</td>\n",
       "      <td>1</td>\n",
       "    </tr>\n",
       "    <tr>\n",
       "      <th>1</th>\n",
       "      <td>1</td>\n",
       "      <td>20.57</td>\n",
       "      <td>17.77</td>\n",
       "      <td>132.90</td>\n",
       "      <td>1326.0</td>\n",
       "      <td>0.08474</td>\n",
       "      <td>0.07864</td>\n",
       "      <td>0.0869</td>\n",
       "      <td>0.07017</td>\n",
       "      <td>0.1812</td>\n",
       "      <td>...</td>\n",
       "      <td>23.41</td>\n",
       "      <td>158.80</td>\n",
       "      <td>1956.0</td>\n",
       "      <td>0.1238</td>\n",
       "      <td>0.1866</td>\n",
       "      <td>0.2416</td>\n",
       "      <td>0.1860</td>\n",
       "      <td>0.2750</td>\n",
       "      <td>0.08902</td>\n",
       "      <td>1</td>\n",
       "    </tr>\n",
       "    <tr>\n",
       "      <th>2</th>\n",
       "      <td>2</td>\n",
       "      <td>19.69</td>\n",
       "      <td>21.25</td>\n",
       "      <td>130.00</td>\n",
       "      <td>1203.0</td>\n",
       "      <td>0.10960</td>\n",
       "      <td>0.15990</td>\n",
       "      <td>0.1974</td>\n",
       "      <td>0.12790</td>\n",
       "      <td>0.2069</td>\n",
       "      <td>...</td>\n",
       "      <td>25.53</td>\n",
       "      <td>152.50</td>\n",
       "      <td>1709.0</td>\n",
       "      <td>0.1444</td>\n",
       "      <td>0.4245</td>\n",
       "      <td>0.4504</td>\n",
       "      <td>0.2430</td>\n",
       "      <td>0.3613</td>\n",
       "      <td>0.08758</td>\n",
       "      <td>1</td>\n",
       "    </tr>\n",
       "    <tr>\n",
       "      <th>3</th>\n",
       "      <td>3</td>\n",
       "      <td>11.42</td>\n",
       "      <td>20.38</td>\n",
       "      <td>77.58</td>\n",
       "      <td>386.1</td>\n",
       "      <td>0.14250</td>\n",
       "      <td>0.28390</td>\n",
       "      <td>0.2414</td>\n",
       "      <td>0.10520</td>\n",
       "      <td>0.2597</td>\n",
       "      <td>...</td>\n",
       "      <td>26.50</td>\n",
       "      <td>98.87</td>\n",
       "      <td>567.7</td>\n",
       "      <td>0.2098</td>\n",
       "      <td>0.8663</td>\n",
       "      <td>0.6869</td>\n",
       "      <td>0.2575</td>\n",
       "      <td>0.6638</td>\n",
       "      <td>0.17300</td>\n",
       "      <td>1</td>\n",
       "    </tr>\n",
       "    <tr>\n",
       "      <th>4</th>\n",
       "      <td>4</td>\n",
       "      <td>20.29</td>\n",
       "      <td>14.34</td>\n",
       "      <td>135.10</td>\n",
       "      <td>1297.0</td>\n",
       "      <td>0.10030</td>\n",
       "      <td>0.13280</td>\n",
       "      <td>0.1980</td>\n",
       "      <td>0.10430</td>\n",
       "      <td>0.1809</td>\n",
       "      <td>...</td>\n",
       "      <td>16.67</td>\n",
       "      <td>152.20</td>\n",
       "      <td>1575.0</td>\n",
       "      <td>0.1374</td>\n",
       "      <td>0.2050</td>\n",
       "      <td>0.4000</td>\n",
       "      <td>0.1625</td>\n",
       "      <td>0.2364</td>\n",
       "      <td>0.07678</td>\n",
       "      <td>1</td>\n",
       "    </tr>\n",
       "  </tbody>\n",
       "</table>\n",
       "<p>5 rows × 32 columns</p>\n",
       "</div>"
      ],
      "text/plain": [
       "   Unnamed: 0  radius_mean  texture_mean  perimeter_mean  area_mean  \\\n",
       "0           0        17.99         10.38          122.80     1001.0   \n",
       "1           1        20.57         17.77          132.90     1326.0   \n",
       "2           2        19.69         21.25          130.00     1203.0   \n",
       "3           3        11.42         20.38           77.58      386.1   \n",
       "4           4        20.29         14.34          135.10     1297.0   \n",
       "\n",
       "   smoothness_mean  compactness_mean  concavity_mean  concave points_mean  \\\n",
       "0          0.11840           0.27760          0.3001              0.14710   \n",
       "1          0.08474           0.07864          0.0869              0.07017   \n",
       "2          0.10960           0.15990          0.1974              0.12790   \n",
       "3          0.14250           0.28390          0.2414              0.10520   \n",
       "4          0.10030           0.13280          0.1980              0.10430   \n",
       "\n",
       "   symmetry_mean  ...  texture_worst  perimeter_worst  area_worst  \\\n",
       "0         0.2419  ...          17.33           184.60      2019.0   \n",
       "1         0.1812  ...          23.41           158.80      1956.0   \n",
       "2         0.2069  ...          25.53           152.50      1709.0   \n",
       "3         0.2597  ...          26.50            98.87       567.7   \n",
       "4         0.1809  ...          16.67           152.20      1575.0   \n",
       "\n",
       "   smoothness_worst  compactness_worst  concavity_worst  concave points_worst  \\\n",
       "0            0.1622             0.6656           0.7119                0.2654   \n",
       "1            0.1238             0.1866           0.2416                0.1860   \n",
       "2            0.1444             0.4245           0.4504                0.2430   \n",
       "3            0.2098             0.8663           0.6869                0.2575   \n",
       "4            0.1374             0.2050           0.4000                0.1625   \n",
       "\n",
       "   symmetry_worst  fractal_dimension_worst  diagnosis_M  \n",
       "0          0.4601                  0.11890            1  \n",
       "1          0.2750                  0.08902            1  \n",
       "2          0.3613                  0.08758            1  \n",
       "3          0.6638                  0.17300            1  \n",
       "4          0.2364                  0.07678            1  \n",
       "\n",
       "[5 rows x 32 columns]"
      ]
     },
     "execution_count": 20,
     "metadata": {},
     "output_type": "execute_result"
    }
   ],
   "source": [
    "bc_df = pd.read_csv('./data/Preprocessed_data.csv')\n",
    "bc_df.head()"
   ]
  },
  {
   "cell_type": "markdown",
   "id": "c91355ab-94c2-4d62-b5b3-9b8b37508c4f",
   "metadata": {},
   "source": [
    "Check shape and value counts of the data in dataset to make sure that we got the proper data."
   ]
  },
  {
   "cell_type": "code",
   "execution_count": 21,
   "id": "325edc78-17ad-42da-97bb-156291130ab1",
   "metadata": {
    "tags": []
   },
   "outputs": [
    {
     "data": {
      "text/plain": [
       "(569, 32)"
      ]
     },
     "execution_count": 21,
     "metadata": {},
     "output_type": "execute_result"
    }
   ],
   "source": [
    "bc_df.shape"
   ]
  },
  {
   "cell_type": "code",
   "execution_count": 22,
   "id": "b8df6dff-0aef-4b85-acb1-96178be1d6e4",
   "metadata": {
    "tags": []
   },
   "outputs": [
    {
     "data": {
      "text/plain": [
       "0    357\n",
       "1    212\n",
       "Name: diagnosis_M, dtype: int64"
      ]
     },
     "execution_count": 22,
     "metadata": {},
     "output_type": "execute_result"
    }
   ],
   "source": [
    "bc_df['diagnosis_M'].value_counts()"
   ]
  },
  {
   "cell_type": "code",
   "execution_count": 23,
   "id": "95b2700a-240a-4483-b60c-a8c5b487c4da",
   "metadata": {
    "tags": []
   },
   "outputs": [],
   "source": [
    "bc_df = bc_df.drop(columns=['Unnamed: 0'])"
   ]
  },
  {
   "cell_type": "markdown",
   "id": "6bae21bf-9ecc-4706-af7b-8008475aa5da",
   "metadata": {},
   "source": [
    "Converting the dataset in target and features."
   ]
  },
  {
   "cell_type": "code",
   "execution_count": 24,
   "id": "0fed4cac-ea4f-4e5d-9c42-1e38740109b2",
   "metadata": {
    "tags": []
   },
   "outputs": [],
   "source": [
    "target= bc_df['diagnosis_M']\n",
    "features=bc_df.drop(columns=['diagnosis_M'])"
   ]
  },
  {
   "cell_type": "markdown",
   "id": "55da3aaa-1490-4bc2-825a-e602c1a06c19",
   "metadata": {},
   "source": [
    "Spliting the data into training and test for random search and grid search"
   ]
  },
  {
   "cell_type": "code",
   "execution_count": 25,
   "id": "64967ce4-d730-4b46-93e1-b5bb778abe67",
   "metadata": {
    "tags": []
   },
   "outputs": [],
   "source": [
    "# split the data into validation and training set\n",
    "X_train, X_test, y_train, y_test = train_test_split(features, target, test_size=0.3, random_state=1)"
   ]
  },
  {
   "cell_type": "markdown",
   "id": "4bae6372-5730-4ed2-a4b7-ddf56aa03f41",
   "metadata": {},
   "source": [
    "Scaling the Training and test features and standardizing the data in dataset. Doing this after the train test split to avoid data leakage."
   ]
  },
  {
   "cell_type": "code",
   "execution_count": 26,
   "id": "179f00bc-e370-4579-a538-4b1df7da1a50",
   "metadata": {
    "tags": []
   },
   "outputs": [],
   "source": [
    "# create a standard scaler and fit it to the training set of predictors\n",
    "scaler = preprocessing.StandardScaler()\n",
    "scaler.fit(X_train)\n",
    "X_train = scaler.transform(X_train)\n",
    "X_test = scaler.transform(X_test)\n"
   ]
  },
  {
   "cell_type": "markdown",
   "id": "93b9bebd-64a8-48e3-85bb-a0b073619a22",
   "metadata": {},
   "source": [
    "### Using Decision Tree Classifier model for classifying the data.\n",
    "After running the model, we got accuracy of 94.22% and precision is 93.83%"
   ]
  },
  {
   "cell_type": "code",
   "execution_count": 27,
   "id": "a469a564-3d5d-4535-9dc5-3e7775c8bb5d",
   "metadata": {
    "tags": []
   },
   "outputs": [
    {
     "name": "stdout",
     "output_type": "stream",
     "text": [
      "Accuracy:  0.9422435897435898\n"
     ]
    }
   ],
   "source": [
    "treeClassifier = DecisionTreeClassifier(random_state=1)\n",
    "scores = cross_val_score(treeClassifier, X_train, y_train, cv=10, scoring='accuracy')\n",
    "print('Accuracy: ',scores.mean())"
   ]
  },
  {
   "cell_type": "code",
   "execution_count": 28,
   "id": "68cbfa85-099d-4561-a5e3-5c88d60f2df8",
   "metadata": {
    "tags": []
   },
   "outputs": [
    {
     "name": "stdout",
     "output_type": "stream",
     "text": [
      "Precision:  0.9382738095238097\n"
     ]
    }
   ],
   "source": [
    "precision = cross_val_score(treeClassifier, X_train, y_train, cv=10, scoring='precision')\n",
    "print('Precision: ',precision.mean())"
   ]
  },
  {
   "cell_type": "markdown",
   "id": "f4a7a6a8-08e0-4540-b8e0-163eb1c632cb",
   "metadata": {},
   "source": [
    "### Doing the randomized search for tuning the hyperparameters in decision tree classifier."
   ]
  },
  {
   "cell_type": "code",
   "execution_count": 29,
   "id": "ab3373eb-6aea-4c5d-9755-205a300a68a5",
   "metadata": {
    "tags": []
   },
   "outputs": [],
   "source": [
    "param_grid = {\n",
    "    'max_depth': [2, 5, 10, 20, 30, 40], \n",
    "    'min_samples_split': [2, 5, 10, 20, 40, 60, 80, 100], \n",
    "    'min_impurity_decrease': [0, 0.0005, 0.001, 0.005, 0.01]\n",
    "}"
   ]
  },
  {
   "cell_type": "markdown",
   "id": "35a1caad-d9d0-4795-9a5c-d4bd9f939838",
   "metadata": {},
   "source": [
    "Fitting the model with above parameters and choosing accuracy as a scoring method."
   ]
  },
  {
   "cell_type": "code",
   "execution_count": 30,
   "id": "5a9daa6f-e739-4615-b8cd-2cf6d36e9c8f",
   "metadata": {
    "tags": []
   },
   "outputs": [],
   "source": [
    "dtree_default = DecisionTreeClassifier(random_state=1)\n",
    "best_random_search_model = RandomizedSearchCV(\n",
    "                                                estimator=DecisionTreeClassifier(random_state=1), \n",
    "                                                scoring='accuracy', \n",
    "                                                param_distributions=param_grid, \n",
    "                                                n_iter = 100, \n",
    "                                                cv=10, \n",
    "                                                verbose=0, \n",
    "                                                n_jobs = -1\n",
    "                                            )\n",
    "_ = best_random_search_model.fit(X_train, y_train)\n"
   ]
  },
  {
   "cell_type": "markdown",
   "id": "5324e5d6-e6f0-4ab7-b5ed-23b7b0211965",
   "metadata": {},
   "source": [
    "#### Best parameters found using randomized search for the decision tree model"
   ]
  },
  {
   "cell_type": "code",
   "execution_count": 31,
   "id": "6ffe8aab-ae35-47f2-93dd-0fc53c0f0960",
   "metadata": {
    "tags": []
   },
   "outputs": [
    {
     "name": "stdout",
     "output_type": "stream",
     "text": [
      "Best parameters found using Ranomized Search for DTC:  {'min_samples_split': 5, 'min_impurity_decrease': 0, 'max_depth': 40}\n"
     ]
    }
   ],
   "source": [
    "random_search_best_params = best_random_search_model.best_params_\n",
    "print('Best parameters found using Ranomized Search for DTC: ', random_search_best_params)"
   ]
  },
  {
   "cell_type": "markdown",
   "id": "43f0a371-4bb7-4c73-b22d-eefef4672229",
   "metadata": {},
   "source": [
    "Checking the actual and predicted values side by side to get a better idea."
   ]
  },
  {
   "cell_type": "code",
   "execution_count": 32,
   "id": "a938df6f-0050-46ea-9d0a-c3160065d3a3",
   "metadata": {
    "tags": []
   },
   "outputs": [
    {
     "data": {
      "text/html": [
       "<div>\n",
       "<style scoped>\n",
       "    .dataframe tbody tr th:only-of-type {\n",
       "        vertical-align: middle;\n",
       "    }\n",
       "\n",
       "    .dataframe tbody tr th {\n",
       "        vertical-align: top;\n",
       "    }\n",
       "\n",
       "    .dataframe thead th {\n",
       "        text-align: right;\n",
       "    }\n",
       "</style>\n",
       "<table border=\"1\" class=\"dataframe\">\n",
       "  <thead>\n",
       "    <tr style=\"text-align: right;\">\n",
       "      <th></th>\n",
       "      <th>actual</th>\n",
       "      <th>predicted</th>\n",
       "    </tr>\n",
       "  </thead>\n",
       "  <tbody>\n",
       "    <tr>\n",
       "      <th>421</th>\n",
       "      <td>0</td>\n",
       "      <td>0</td>\n",
       "    </tr>\n",
       "    <tr>\n",
       "      <th>47</th>\n",
       "      <td>1</td>\n",
       "      <td>1</td>\n",
       "    </tr>\n",
       "    <tr>\n",
       "      <th>292</th>\n",
       "      <td>0</td>\n",
       "      <td>0</td>\n",
       "    </tr>\n",
       "    <tr>\n",
       "      <th>186</th>\n",
       "      <td>1</td>\n",
       "      <td>1</td>\n",
       "    </tr>\n",
       "    <tr>\n",
       "      <th>414</th>\n",
       "      <td>1</td>\n",
       "      <td>1</td>\n",
       "    </tr>\n",
       "    <tr>\n",
       "      <th>132</th>\n",
       "      <td>1</td>\n",
       "      <td>1</td>\n",
       "    </tr>\n",
       "    <tr>\n",
       "      <th>161</th>\n",
       "      <td>1</td>\n",
       "      <td>1</td>\n",
       "    </tr>\n",
       "    <tr>\n",
       "      <th>197</th>\n",
       "      <td>1</td>\n",
       "      <td>0</td>\n",
       "    </tr>\n",
       "    <tr>\n",
       "      <th>245</th>\n",
       "      <td>0</td>\n",
       "      <td>0</td>\n",
       "    </tr>\n",
       "    <tr>\n",
       "      <th>453</th>\n",
       "      <td>0</td>\n",
       "      <td>0</td>\n",
       "    </tr>\n",
       "    <tr>\n",
       "      <th>411</th>\n",
       "      <td>0</td>\n",
       "      <td>0</td>\n",
       "    </tr>\n",
       "    <tr>\n",
       "      <th>214</th>\n",
       "      <td>1</td>\n",
       "      <td>1</td>\n",
       "    </tr>\n",
       "    <tr>\n",
       "      <th>283</th>\n",
       "      <td>1</td>\n",
       "      <td>1</td>\n",
       "    </tr>\n",
       "    <tr>\n",
       "      <th>107</th>\n",
       "      <td>0</td>\n",
       "      <td>0</td>\n",
       "    </tr>\n",
       "    <tr>\n",
       "      <th>542</th>\n",
       "      <td>0</td>\n",
       "      <td>0</td>\n",
       "    </tr>\n",
       "    <tr>\n",
       "      <th>518</th>\n",
       "      <td>0</td>\n",
       "      <td>0</td>\n",
       "    </tr>\n",
       "    <tr>\n",
       "      <th>324</th>\n",
       "      <td>0</td>\n",
       "      <td>0</td>\n",
       "    </tr>\n",
       "    <tr>\n",
       "      <th>488</th>\n",
       "      <td>0</td>\n",
       "      <td>0</td>\n",
       "    </tr>\n",
       "    <tr>\n",
       "      <th>376</th>\n",
       "      <td>0</td>\n",
       "      <td>0</td>\n",
       "    </tr>\n",
       "    <tr>\n",
       "      <th>237</th>\n",
       "      <td>1</td>\n",
       "      <td>1</td>\n",
       "    </tr>\n",
       "  </tbody>\n",
       "</table>\n",
       "</div>"
      ],
      "text/plain": [
       "     actual  predicted\n",
       "421       0          0\n",
       "47        1          1\n",
       "292       0          0\n",
       "186       1          1\n",
       "414       1          1\n",
       "132       1          1\n",
       "161       1          1\n",
       "197       1          0\n",
       "245       0          0\n",
       "453       0          0\n",
       "411       0          0\n",
       "214       1          1\n",
       "283       1          1\n",
       "107       0          0\n",
       "542       0          0\n",
       "518       0          0\n",
       "324       0          0\n",
       "488       0          0\n",
       "376       0          0\n",
       "237       1          1"
      ]
     },
     "execution_count": 32,
     "metadata": {},
     "output_type": "execute_result"
    }
   ],
   "source": [
    "results_RS = pd.DataFrame()\n",
    "results_RS['actual'] = y_test\n",
    "results_RS['predicted'] = best_random_search_model.predict(X_test)\n",
    "results_RS.head(20)"
   ]
  },
  {
   "cell_type": "markdown",
   "id": "3019920a-38ca-4627-9df7-3a131b4fda75",
   "metadata": {},
   "source": [
    "#### Checking the accuracy, recall, precision and f1 score for the model when used randomized search."
   ]
  },
  {
   "cell_type": "code",
   "execution_count": 33,
   "id": "a0350ef6-b132-4c59-ba82-a0827817016a",
   "metadata": {
    "tags": []
   },
   "outputs": [
    {
     "name": "stdout",
     "output_type": "stream",
     "text": [
      "***Scores for DTC using randomized Search***\n",
      "Recall Score:     0.873015873015873\n",
      "Accuracy Score:   0.9473684210526315\n",
      "Precision Score:  0.9821428571428571\n",
      "F1 Score:         0.9243697478991596\n",
      "************************************\n"
     ]
    }
   ],
   "source": [
    "y_pred = best_random_search_model.predict(X_test)\n",
    "print(\"***Scores for DTC using randomized Search***\")\n",
    "print(f\"{'Recall Score:':18}{recall_score(y_test, y_pred)}\")\n",
    "print(f\"{'Accuracy Score: ':18}{accuracy_score(y_test, y_pred)}\")\n",
    "print(f\"{'Precision Score: ':18}{precision_score(y_test, y_pred)}\")\n",
    "print(f\"{'F1 Score: ':18}{f1_score(y_test, y_pred)}\")\n",
    "print(\"************************************\")"
   ]
  },
  {
   "cell_type": "markdown",
   "id": "239aca5a-7487-4739-8d39-97e78c7e0ee6",
   "metadata": {},
   "source": [
    "#### Using grid search keeping the above selected parameters from random search as base parameters and checking the appropriate parameters in its close promixity."
   ]
  },
  {
   "cell_type": "code",
   "execution_count": 34,
   "id": "4163264f-39a1-4088-a588-e45a0cbd419a",
   "metadata": {
    "tags": []
   },
   "outputs": [],
   "source": [
    "plus_minus = 5  #used for giving the rangeto values.\n",
    "\n",
    "param_grid_GS = { 'max_depth': [x for x in range(random_search_best_params['max_depth']-plus_minus , random_search_best_params['max_depth']+plus_minus,2) if x > 0],\n",
    "                'min_samples_split': [x for x in range(random_search_best_params['min_samples_split']-plus_minus, random_search_best_params['min_samples_split']+plus_minus,2) if x >= 2],       \n",
    "                'min_impurity_decrease': [x for x in np.arange(random_search_best_params['min_impurity_decrease']-0.001, random_search_best_params['min_impurity_decrease']+0.001,.0001).round(5) if x >= 0.000]\n",
    "              }\n",
    "\n",
    "best_grid_search_model = GridSearchCV(\n",
    "                                        estimator=DecisionTreeClassifier(random_state=1), \n",
    "                                        scoring='accuracy', \n",
    "                                        param_grid=param_grid_GS, \n",
    "                                        cv=10, \n",
    "                                        verbose=0,  \n",
    "                                        n_jobs = -1\n",
    "                                      )\n",
    "_ = best_grid_search_model.fit(X_train, y_train)\n",
    "\n"
   ]
  },
  {
   "cell_type": "markdown",
   "id": "3eab7554-15a3-4f54-8b4a-bad300be8d62",
   "metadata": {},
   "source": [
    "#### List of best parameters found when done grid search on the base parameters by randomized search"
   ]
  },
  {
   "cell_type": "code",
   "execution_count": 35,
   "id": "ebbfd6f3-a3b1-4195-b158-2a94262e82fd",
   "metadata": {
    "tags": []
   },
   "outputs": [
    {
     "name": "stdout",
     "output_type": "stream",
     "text": [
      "Best parameters found using Grid Search for DTC:  {'max_depth': 35, 'min_impurity_decrease': 0.0, 'min_samples_split': 4}\n"
     ]
    }
   ],
   "source": [
    "grid_search_best_params = best_grid_search_model.best_params_\n",
    "print('Best parameters found using Grid Search for DTC: ', grid_search_best_params)"
   ]
  },
  {
   "cell_type": "markdown",
   "id": "2ef5f59f-d7d8-46f4-9636-d713ab84cf92",
   "metadata": {},
   "source": [
    "Checking the actual and predicted values side by side to get a better idea."
   ]
  },
  {
   "cell_type": "code",
   "execution_count": 36,
   "id": "0fac392e-be30-45de-a9ab-89ba37aa5597",
   "metadata": {
    "tags": []
   },
   "outputs": [
    {
     "data": {
      "text/html": [
       "<div>\n",
       "<style scoped>\n",
       "    .dataframe tbody tr th:only-of-type {\n",
       "        vertical-align: middle;\n",
       "    }\n",
       "\n",
       "    .dataframe tbody tr th {\n",
       "        vertical-align: top;\n",
       "    }\n",
       "\n",
       "    .dataframe thead th {\n",
       "        text-align: right;\n",
       "    }\n",
       "</style>\n",
       "<table border=\"1\" class=\"dataframe\">\n",
       "  <thead>\n",
       "    <tr style=\"text-align: right;\">\n",
       "      <th></th>\n",
       "      <th>actual</th>\n",
       "      <th>predicted</th>\n",
       "    </tr>\n",
       "  </thead>\n",
       "  <tbody>\n",
       "    <tr>\n",
       "      <th>421</th>\n",
       "      <td>0</td>\n",
       "      <td>0</td>\n",
       "    </tr>\n",
       "    <tr>\n",
       "      <th>47</th>\n",
       "      <td>1</td>\n",
       "      <td>1</td>\n",
       "    </tr>\n",
       "    <tr>\n",
       "      <th>292</th>\n",
       "      <td>0</td>\n",
       "      <td>0</td>\n",
       "    </tr>\n",
       "    <tr>\n",
       "      <th>186</th>\n",
       "      <td>1</td>\n",
       "      <td>1</td>\n",
       "    </tr>\n",
       "    <tr>\n",
       "      <th>414</th>\n",
       "      <td>1</td>\n",
       "      <td>1</td>\n",
       "    </tr>\n",
       "    <tr>\n",
       "      <th>132</th>\n",
       "      <td>1</td>\n",
       "      <td>1</td>\n",
       "    </tr>\n",
       "    <tr>\n",
       "      <th>161</th>\n",
       "      <td>1</td>\n",
       "      <td>1</td>\n",
       "    </tr>\n",
       "    <tr>\n",
       "      <th>197</th>\n",
       "      <td>1</td>\n",
       "      <td>0</td>\n",
       "    </tr>\n",
       "    <tr>\n",
       "      <th>245</th>\n",
       "      <td>0</td>\n",
       "      <td>0</td>\n",
       "    </tr>\n",
       "    <tr>\n",
       "      <th>453</th>\n",
       "      <td>0</td>\n",
       "      <td>0</td>\n",
       "    </tr>\n",
       "    <tr>\n",
       "      <th>411</th>\n",
       "      <td>0</td>\n",
       "      <td>0</td>\n",
       "    </tr>\n",
       "    <tr>\n",
       "      <th>214</th>\n",
       "      <td>1</td>\n",
       "      <td>1</td>\n",
       "    </tr>\n",
       "    <tr>\n",
       "      <th>283</th>\n",
       "      <td>1</td>\n",
       "      <td>1</td>\n",
       "    </tr>\n",
       "    <tr>\n",
       "      <th>107</th>\n",
       "      <td>0</td>\n",
       "      <td>0</td>\n",
       "    </tr>\n",
       "    <tr>\n",
       "      <th>542</th>\n",
       "      <td>0</td>\n",
       "      <td>0</td>\n",
       "    </tr>\n",
       "    <tr>\n",
       "      <th>518</th>\n",
       "      <td>0</td>\n",
       "      <td>0</td>\n",
       "    </tr>\n",
       "    <tr>\n",
       "      <th>324</th>\n",
       "      <td>0</td>\n",
       "      <td>0</td>\n",
       "    </tr>\n",
       "    <tr>\n",
       "      <th>488</th>\n",
       "      <td>0</td>\n",
       "      <td>0</td>\n",
       "    </tr>\n",
       "    <tr>\n",
       "      <th>376</th>\n",
       "      <td>0</td>\n",
       "      <td>0</td>\n",
       "    </tr>\n",
       "    <tr>\n",
       "      <th>237</th>\n",
       "      <td>1</td>\n",
       "      <td>1</td>\n",
       "    </tr>\n",
       "  </tbody>\n",
       "</table>\n",
       "</div>"
      ],
      "text/plain": [
       "     actual  predicted\n",
       "421       0          0\n",
       "47        1          1\n",
       "292       0          0\n",
       "186       1          1\n",
       "414       1          1\n",
       "132       1          1\n",
       "161       1          1\n",
       "197       1          0\n",
       "245       0          0\n",
       "453       0          0\n",
       "411       0          0\n",
       "214       1          1\n",
       "283       1          1\n",
       "107       0          0\n",
       "542       0          0\n",
       "518       0          0\n",
       "324       0          0\n",
       "488       0          0\n",
       "376       0          0\n",
       "237       1          1"
      ]
     },
     "execution_count": 36,
     "metadata": {},
     "output_type": "execute_result"
    }
   ],
   "source": [
    "results_GS = pd.DataFrame()\n",
    "results_GS['actual'] = y_test\n",
    "results_GS['predicted'] = best_grid_search_model.predict(X_test)\n",
    "results_GS.head(20)"
   ]
  },
  {
   "cell_type": "markdown",
   "id": "6018d905-8774-45b7-8842-e4602791f6c2",
   "metadata": {},
   "source": [
    "#### Checking the accuracy, recall, precision and f1 score for the Decision Tree model after using Grid search."
   ]
  },
  {
   "cell_type": "code",
   "execution_count": 37,
   "id": "34ebc877-5e07-437d-b69a-96e768f3cf81",
   "metadata": {
    "tags": []
   },
   "outputs": [
    {
     "name": "stdout",
     "output_type": "stream",
     "text": [
      "***Scores for DTC using Grid Search***\n",
      "Recall Score:     0.873015873015873\n",
      "Accuracy Score:   0.9473684210526315\n",
      "Precision Score:  0.9821428571428571\n",
      "F1 Score:         0.9243697478991596\n",
      "************************************\n"
     ]
    }
   ],
   "source": [
    "y_pred_Grid = best_grid_search_model.predict(X_test)\n",
    "print(\"***Scores for DTC using Grid Search***\")\n",
    "print(f\"{'Recall Score:':18}{recall_score(y_test, y_pred_Grid)}\")\n",
    "print(f\"{'Accuracy Score: ':18}{accuracy_score(y_test, y_pred_Grid)}\")\n",
    "print(f\"{'Precision Score: ':18}{precision_score(y_test, y_pred_Grid)}\")\n",
    "print(f\"{'F1 Score: ':18}{f1_score(y_test, y_pred_Grid)}\")\n",
    "print(\"************************************\")"
   ]
  },
  {
   "cell_type": "markdown",
   "id": "44b229ce-ecde-4278-be38-1a74a84e76e5",
   "metadata": {
    "tags": []
   },
   "source": [
    "### Support vector Machine Support Vector Classifier using randomized search."
   ]
  },
  {
   "cell_type": "code",
   "execution_count": 38,
   "id": "3cd4bc96-c04a-4a02-8637-8ac3d16bedbc",
   "metadata": {
    "tags": []
   },
   "outputs": [],
   "source": [
    "param_grid_SVC = {'C': [1, 10, 100, 1000,1000],\n",
    "                  'gamma':[1, 10, 100, 1000],\n",
    "                  'kernel':['linear','rbf']}"
   ]
  },
  {
   "cell_type": "markdown",
   "id": "90e5624b-8cac-44bf-a226-01886ea76ef2",
   "metadata": {},
   "source": [
    "Training the model and looking for the predicted values and actual values."
   ]
  },
  {
   "cell_type": "code",
   "execution_count": 39,
   "id": "0644989b-095f-43c8-9566-a44dfc96e793",
   "metadata": {},
   "outputs": [
    {
     "data": {
      "text/html": [
       "<div>\n",
       "<style scoped>\n",
       "    .dataframe tbody tr th:only-of-type {\n",
       "        vertical-align: middle;\n",
       "    }\n",
       "\n",
       "    .dataframe tbody tr th {\n",
       "        vertical-align: top;\n",
       "    }\n",
       "\n",
       "    .dataframe thead th {\n",
       "        text-align: right;\n",
       "    }\n",
       "</style>\n",
       "<table border=\"1\" class=\"dataframe\">\n",
       "  <thead>\n",
       "    <tr style=\"text-align: right;\">\n",
       "      <th></th>\n",
       "      <th>actual</th>\n",
       "      <th>predicted</th>\n",
       "    </tr>\n",
       "  </thead>\n",
       "  <tbody>\n",
       "    <tr>\n",
       "      <th>421</th>\n",
       "      <td>0</td>\n",
       "      <td>0</td>\n",
       "    </tr>\n",
       "    <tr>\n",
       "      <th>47</th>\n",
       "      <td>1</td>\n",
       "      <td>1</td>\n",
       "    </tr>\n",
       "    <tr>\n",
       "      <th>292</th>\n",
       "      <td>0</td>\n",
       "      <td>0</td>\n",
       "    </tr>\n",
       "    <tr>\n",
       "      <th>186</th>\n",
       "      <td>1</td>\n",
       "      <td>1</td>\n",
       "    </tr>\n",
       "    <tr>\n",
       "      <th>414</th>\n",
       "      <td>1</td>\n",
       "      <td>1</td>\n",
       "    </tr>\n",
       "    <tr>\n",
       "      <th>132</th>\n",
       "      <td>1</td>\n",
       "      <td>1</td>\n",
       "    </tr>\n",
       "    <tr>\n",
       "      <th>161</th>\n",
       "      <td>1</td>\n",
       "      <td>1</td>\n",
       "    </tr>\n",
       "    <tr>\n",
       "      <th>197</th>\n",
       "      <td>1</td>\n",
       "      <td>1</td>\n",
       "    </tr>\n",
       "    <tr>\n",
       "      <th>245</th>\n",
       "      <td>0</td>\n",
       "      <td>0</td>\n",
       "    </tr>\n",
       "    <tr>\n",
       "      <th>453</th>\n",
       "      <td>0</td>\n",
       "      <td>0</td>\n",
       "    </tr>\n",
       "    <tr>\n",
       "      <th>411</th>\n",
       "      <td>0</td>\n",
       "      <td>0</td>\n",
       "    </tr>\n",
       "    <tr>\n",
       "      <th>214</th>\n",
       "      <td>1</td>\n",
       "      <td>1</td>\n",
       "    </tr>\n",
       "    <tr>\n",
       "      <th>283</th>\n",
       "      <td>1</td>\n",
       "      <td>1</td>\n",
       "    </tr>\n",
       "    <tr>\n",
       "      <th>107</th>\n",
       "      <td>0</td>\n",
       "      <td>0</td>\n",
       "    </tr>\n",
       "    <tr>\n",
       "      <th>542</th>\n",
       "      <td>0</td>\n",
       "      <td>0</td>\n",
       "    </tr>\n",
       "    <tr>\n",
       "      <th>518</th>\n",
       "      <td>0</td>\n",
       "      <td>0</td>\n",
       "    </tr>\n",
       "    <tr>\n",
       "      <th>324</th>\n",
       "      <td>0</td>\n",
       "      <td>0</td>\n",
       "    </tr>\n",
       "    <tr>\n",
       "      <th>488</th>\n",
       "      <td>0</td>\n",
       "      <td>0</td>\n",
       "    </tr>\n",
       "    <tr>\n",
       "      <th>376</th>\n",
       "      <td>0</td>\n",
       "      <td>0</td>\n",
       "    </tr>\n",
       "    <tr>\n",
       "      <th>237</th>\n",
       "      <td>1</td>\n",
       "      <td>1</td>\n",
       "    </tr>\n",
       "  </tbody>\n",
       "</table>\n",
       "</div>"
      ],
      "text/plain": [
       "     actual  predicted\n",
       "421       0          0\n",
       "47        1          1\n",
       "292       0          0\n",
       "186       1          1\n",
       "414       1          1\n",
       "132       1          1\n",
       "161       1          1\n",
       "197       1          1\n",
       "245       0          0\n",
       "453       0          0\n",
       "411       0          0\n",
       "214       1          1\n",
       "283       1          1\n",
       "107       0          0\n",
       "542       0          0\n",
       "518       0          0\n",
       "324       0          0\n",
       "488       0          0\n",
       "376       0          0\n",
       "237       1          1"
      ]
     },
     "execution_count": 39,
     "metadata": {},
     "output_type": "execute_result"
    }
   ],
   "source": [
    "clf_SVC = SVC(random_state=42)\n",
    "best_random_SVC= RandomizedSearchCV(\n",
    "                                    estimator=SVC(random_state=42),\n",
    "                                    scoring='accuracy', \n",
    "                                    param_distributions=param_grid_SVC, \n",
    "                                    n_iter=10,\n",
    "                                    cv=10, \n",
    "                                    verbose=0, \n",
    "                                    n_jobs = -1\n",
    "                                    )\n",
    "\n",
    "_=best_random_SVC.fit(X_train, y_train)\n",
    "\n",
    "y_pred_linear = best_random_SVC.predict(X_test)\n",
    "results_CLF = pd.DataFrame()\n",
    "results_CLF['actual'] = y_test\n",
    "results_CLF['predicted'] = y_pred_linear\n",
    "results_CLF.head(20)"
   ]
  },
  {
   "cell_type": "markdown",
   "id": "561fdad9-1648-44d0-9d15-98c3930a958e",
   "metadata": {},
   "source": [
    "#### List of best parameters found using Grid Search for SVC."
   ]
  },
  {
   "cell_type": "code",
   "execution_count": 40,
   "id": "c282bebd-6286-40f4-87c2-505a9c4e37b6",
   "metadata": {
    "tags": []
   },
   "outputs": [
    {
     "name": "stdout",
     "output_type": "stream",
     "text": [
      "Best parameters found using Randomized Search for SVC:  {'kernel': 'linear', 'gamma': 10, 'C': 100}\n"
     ]
    }
   ],
   "source": [
    "random_search_best_params_SVC = best_random_SVC.best_params_\n",
    "print('Best parameters found using Randomized Search for SVC: ', random_search_best_params_SVC)"
   ]
  },
  {
   "cell_type": "markdown",
   "id": "b0cb72f3-a886-4c89-b362-a4b4a21c9325",
   "metadata": {},
   "source": [
    "#### Checking the accuracy, recall, precision and f1 score for the model after using random search."
   ]
  },
  {
   "cell_type": "code",
   "execution_count": 41,
   "id": "3e103d26-21ed-441b-a5e6-5db1e6b38168",
   "metadata": {
    "tags": []
   },
   "outputs": [
    {
     "name": "stdout",
     "output_type": "stream",
     "text": [
      "***Scores for SVC using Randomized Search***\n",
      "SVC Random Search Accuracy: 0.9590643274853801\n",
      "SVC Random Search Confusion Matrix: \n",
      "[[104   4]\n",
      " [  3  60]]\n",
      "SVC Random Search Classification Report: \n",
      "              precision    recall  f1-score   support\n",
      "\n",
      "           0       0.97      0.96      0.97       108\n",
      "           1       0.94      0.95      0.94        63\n",
      "\n",
      "    accuracy                           0.96       171\n",
      "   macro avg       0.95      0.96      0.96       171\n",
      "weighted avg       0.96      0.96      0.96       171\n",
      "\n",
      "******************************************\n"
     ]
    }
   ],
   "source": [
    "# Accuracy\n",
    "accuracy_RSVC = accuracy_score(y_test, y_pred_linear)\n",
    "# Confusion Matrix\n",
    "conf_matrix_RSVC = confusion_matrix(y_test, y_pred_linear)\n",
    "# Classification Report\n",
    "class_report_RSVC = classification_report(y_test, y_pred_linear)\n",
    "print('***Scores for SVC using Randomized Search***')\n",
    "print(f'SVC Random Search Accuracy: {accuracy_RSVC}')\n",
    "print(f'SVC Random Search Confusion Matrix: \\n{conf_matrix_RSVC}')\n",
    "print(f'SVC Random Search Classification Report: \\n{class_report_RSVC}')\n",
    "print('******************************************')"
   ]
  },
  {
   "cell_type": "markdown",
   "id": "6566cfc2-3b4d-4d5a-a44b-226ffbc78e45",
   "metadata": {},
   "source": [
    "#### Using grid search keeping the above selected parameters from random search as base parameters and checking the appropriate parameters in its close promixity"
   ]
  },
  {
   "cell_type": "code",
   "execution_count": 42,
   "id": "6aa88366-963f-4946-8abd-ba370efb84e9",
   "metadata": {
    "tags": []
   },
   "outputs": [
    {
     "data": {
      "text/html": [
       "<div>\n",
       "<style scoped>\n",
       "    .dataframe tbody tr th:only-of-type {\n",
       "        vertical-align: middle;\n",
       "    }\n",
       "\n",
       "    .dataframe tbody tr th {\n",
       "        vertical-align: top;\n",
       "    }\n",
       "\n",
       "    .dataframe thead th {\n",
       "        text-align: right;\n",
       "    }\n",
       "</style>\n",
       "<table border=\"1\" class=\"dataframe\">\n",
       "  <thead>\n",
       "    <tr style=\"text-align: right;\">\n",
       "      <th></th>\n",
       "      <th>actual</th>\n",
       "      <th>predicted</th>\n",
       "    </tr>\n",
       "  </thead>\n",
       "  <tbody>\n",
       "    <tr>\n",
       "      <th>421</th>\n",
       "      <td>0</td>\n",
       "      <td>0</td>\n",
       "    </tr>\n",
       "    <tr>\n",
       "      <th>47</th>\n",
       "      <td>1</td>\n",
       "      <td>1</td>\n",
       "    </tr>\n",
       "    <tr>\n",
       "      <th>292</th>\n",
       "      <td>0</td>\n",
       "      <td>0</td>\n",
       "    </tr>\n",
       "    <tr>\n",
       "      <th>186</th>\n",
       "      <td>1</td>\n",
       "      <td>1</td>\n",
       "    </tr>\n",
       "    <tr>\n",
       "      <th>414</th>\n",
       "      <td>1</td>\n",
       "      <td>1</td>\n",
       "    </tr>\n",
       "    <tr>\n",
       "      <th>132</th>\n",
       "      <td>1</td>\n",
       "      <td>1</td>\n",
       "    </tr>\n",
       "    <tr>\n",
       "      <th>161</th>\n",
       "      <td>1</td>\n",
       "      <td>1</td>\n",
       "    </tr>\n",
       "    <tr>\n",
       "      <th>197</th>\n",
       "      <td>1</td>\n",
       "      <td>1</td>\n",
       "    </tr>\n",
       "    <tr>\n",
       "      <th>245</th>\n",
       "      <td>0</td>\n",
       "      <td>0</td>\n",
       "    </tr>\n",
       "    <tr>\n",
       "      <th>453</th>\n",
       "      <td>0</td>\n",
       "      <td>0</td>\n",
       "    </tr>\n",
       "    <tr>\n",
       "      <th>411</th>\n",
       "      <td>0</td>\n",
       "      <td>0</td>\n",
       "    </tr>\n",
       "    <tr>\n",
       "      <th>214</th>\n",
       "      <td>1</td>\n",
       "      <td>1</td>\n",
       "    </tr>\n",
       "    <tr>\n",
       "      <th>283</th>\n",
       "      <td>1</td>\n",
       "      <td>1</td>\n",
       "    </tr>\n",
       "    <tr>\n",
       "      <th>107</th>\n",
       "      <td>0</td>\n",
       "      <td>0</td>\n",
       "    </tr>\n",
       "    <tr>\n",
       "      <th>542</th>\n",
       "      <td>0</td>\n",
       "      <td>0</td>\n",
       "    </tr>\n",
       "    <tr>\n",
       "      <th>518</th>\n",
       "      <td>0</td>\n",
       "      <td>0</td>\n",
       "    </tr>\n",
       "    <tr>\n",
       "      <th>324</th>\n",
       "      <td>0</td>\n",
       "      <td>0</td>\n",
       "    </tr>\n",
       "    <tr>\n",
       "      <th>488</th>\n",
       "      <td>0</td>\n",
       "      <td>0</td>\n",
       "    </tr>\n",
       "    <tr>\n",
       "      <th>376</th>\n",
       "      <td>0</td>\n",
       "      <td>0</td>\n",
       "    </tr>\n",
       "    <tr>\n",
       "      <th>237</th>\n",
       "      <td>1</td>\n",
       "      <td>1</td>\n",
       "    </tr>\n",
       "  </tbody>\n",
       "</table>\n",
       "</div>"
      ],
      "text/plain": [
       "     actual  predicted\n",
       "421       0          0\n",
       "47        1          1\n",
       "292       0          0\n",
       "186       1          1\n",
       "414       1          1\n",
       "132       1          1\n",
       "161       1          1\n",
       "197       1          1\n",
       "245       0          0\n",
       "453       0          0\n",
       "411       0          0\n",
       "214       1          1\n",
       "283       1          1\n",
       "107       0          0\n",
       "542       0          0\n",
       "518       0          0\n",
       "324       0          0\n",
       "488       0          0\n",
       "376       0          0\n",
       "237       1          1"
      ]
     },
     "execution_count": 42,
     "metadata": {},
     "output_type": "execute_result"
    }
   ],
   "source": [
    "plus_minus = 10\n",
    "\n",
    "param_grid_GS_SVC = { 'C': [x for x in range(random_search_best_params_SVC['C']-plus_minus , random_search_best_params_SVC['C']+plus_minus,10) if x > 0],\n",
    "                  'gamma':[x for x in range(random_search_best_params_SVC['gamma']-100 , random_search_best_params_SVC['gamma']+100,100) if x > 0],\n",
    "                  'kernel':['linear','rbf']\n",
    "                    }\n",
    "\n",
    "best_grid_search_SVCmodel = GridSearchCV(\n",
    "                                        estimator=SVC(random_state=42), \n",
    "                                        scoring='accuracy', \n",
    "                                        param_grid=param_grid_GS_SVC, \n",
    "                                        cv=10, \n",
    "                                        verbose=0,  \n",
    "                                        n_jobs = -1\n",
    "                                      )\n",
    "_ = best_grid_search_SVCmodel.fit(X_train, y_train)\n",
    "                           \n",
    "                           \n",
    "y_pred_linear_GS = best_grid_search_SVCmodel.predict(X_test)\n",
    "results_CLF_GS = pd.DataFrame()\n",
    "results_CLF_GS['actual'] = y_test\n",
    "results_CLF_GS['predicted'] = y_pred_linear_GS\n",
    "results_CLF_GS.head(20)"
   ]
  },
  {
   "cell_type": "markdown",
   "id": "5392c8b7-a654-4260-974f-1a1124f51580",
   "metadata": {},
   "source": [
    "#### List of best parameters found using Grid Search for SVC."
   ]
  },
  {
   "cell_type": "code",
   "execution_count": 43,
   "id": "c4e4a5ce-7aa9-4355-ac36-d2cf81b551d4",
   "metadata": {
    "tags": []
   },
   "outputs": [
    {
     "name": "stdout",
     "output_type": "stream",
     "text": [
      "Best parameters found using Grid Search for SVC:  {'C': 90, 'gamma': 10, 'kernel': 'linear'}\n"
     ]
    }
   ],
   "source": [
    "grid_search_best_params_SVC = best_grid_search_SVCmodel.best_params_\n",
    "print('Best parameters found using Grid Search for SVC: ', grid_search_best_params_SVC)"
   ]
  },
  {
   "cell_type": "markdown",
   "id": "eb0b3f4a-f261-4e9c-8f41-ac7d614d0238",
   "metadata": {},
   "source": [
    "#### Checking the accuracy, recall, precision and f1 score for the model after using Grid search."
   ]
  },
  {
   "cell_type": "code",
   "execution_count": 44,
   "id": "87a497d0-e473-4509-9279-c6687703321d",
   "metadata": {
    "tags": []
   },
   "outputs": [
    {
     "name": "stdout",
     "output_type": "stream",
     "text": [
      "***Scores for SVC using Grid Search***\n",
      "SVC Grid Search Accuracy: 0.9590643274853801\n",
      "SVC Grid Search Confusion Matrix: \n",
      "[[104   4]\n",
      " [  3  60]]\n",
      "SVC Grid Search Classification Report: \n",
      "              precision    recall  f1-score   support\n",
      "\n",
      "           0       0.97      0.96      0.97       108\n",
      "           1       0.94      0.95      0.94        63\n",
      "\n",
      "    accuracy                           0.96       171\n",
      "   macro avg       0.95      0.96      0.96       171\n",
      "weighted avg       0.96      0.96      0.96       171\n",
      "\n",
      "*******************************************\n"
     ]
    }
   ],
   "source": [
    "# Accuracy\n",
    "accuracy_GSVC = accuracy_score(y_test, y_pred_linear)\n",
    "# Confusion Matrix\n",
    "conf_matrix_GSVC = confusion_matrix(y_test, y_pred_linear)\n",
    "# Classification Report\n",
    "class_report_GSVC = classification_report(y_test, y_pred_linear)\n",
    "print('***Scores for SVC using Grid Search***')\n",
    "print(f'SVC Grid Search Accuracy: {accuracy_GSVC}')\n",
    "print(f'SVC Grid Search Confusion Matrix: \\n{conf_matrix_GSVC}')\n",
    "print(f'SVC Grid Search Classification Report: \\n{class_report_GSVC}')\n",
    "print('*******************************************')"
   ]
  },
  {
   "cell_type": "markdown",
   "id": "7b34996b-dbbd-41e4-8074-e765eb5b51f6",
   "metadata": {},
   "source": [
    "### Logistic Regression using randomized Search"
   ]
  },
  {
   "cell_type": "code",
   "execution_count": 45,
   "id": "9b0342a8-77e4-401a-88fc-9c6c9bfed418",
   "metadata": {
    "tags": []
   },
   "outputs": [],
   "source": [
    "param_grid_log={'solver':['lbfgs','liblinear','saga'],\n",
    "                'max_iter':[5000,6000,7000,10000]\n",
    "                }"
   ]
  },
  {
   "cell_type": "code",
   "execution_count": 46,
   "id": "862b469b-f1db-4f40-8cf1-f0eb3edf594f",
   "metadata": {
    "tags": []
   },
   "outputs": [
    {
     "data": {
      "text/html": [
       "<div>\n",
       "<style scoped>\n",
       "    .dataframe tbody tr th:only-of-type {\n",
       "        vertical-align: middle;\n",
       "    }\n",
       "\n",
       "    .dataframe tbody tr th {\n",
       "        vertical-align: top;\n",
       "    }\n",
       "\n",
       "    .dataframe thead th {\n",
       "        text-align: right;\n",
       "    }\n",
       "</style>\n",
       "<table border=\"1\" class=\"dataframe\">\n",
       "  <thead>\n",
       "    <tr style=\"text-align: right;\">\n",
       "      <th></th>\n",
       "      <th>actual</th>\n",
       "      <th>predicted</th>\n",
       "    </tr>\n",
       "  </thead>\n",
       "  <tbody>\n",
       "    <tr>\n",
       "      <th>421</th>\n",
       "      <td>0</td>\n",
       "      <td>0</td>\n",
       "    </tr>\n",
       "    <tr>\n",
       "      <th>47</th>\n",
       "      <td>1</td>\n",
       "      <td>1</td>\n",
       "    </tr>\n",
       "    <tr>\n",
       "      <th>292</th>\n",
       "      <td>0</td>\n",
       "      <td>0</td>\n",
       "    </tr>\n",
       "    <tr>\n",
       "      <th>186</th>\n",
       "      <td>1</td>\n",
       "      <td>1</td>\n",
       "    </tr>\n",
       "    <tr>\n",
       "      <th>414</th>\n",
       "      <td>1</td>\n",
       "      <td>1</td>\n",
       "    </tr>\n",
       "    <tr>\n",
       "      <th>132</th>\n",
       "      <td>1</td>\n",
       "      <td>1</td>\n",
       "    </tr>\n",
       "    <tr>\n",
       "      <th>161</th>\n",
       "      <td>1</td>\n",
       "      <td>1</td>\n",
       "    </tr>\n",
       "    <tr>\n",
       "      <th>197</th>\n",
       "      <td>1</td>\n",
       "      <td>1</td>\n",
       "    </tr>\n",
       "    <tr>\n",
       "      <th>245</th>\n",
       "      <td>0</td>\n",
       "      <td>0</td>\n",
       "    </tr>\n",
       "    <tr>\n",
       "      <th>453</th>\n",
       "      <td>0</td>\n",
       "      <td>0</td>\n",
       "    </tr>\n",
       "    <tr>\n",
       "      <th>411</th>\n",
       "      <td>0</td>\n",
       "      <td>0</td>\n",
       "    </tr>\n",
       "    <tr>\n",
       "      <th>214</th>\n",
       "      <td>1</td>\n",
       "      <td>1</td>\n",
       "    </tr>\n",
       "    <tr>\n",
       "      <th>283</th>\n",
       "      <td>1</td>\n",
       "      <td>1</td>\n",
       "    </tr>\n",
       "    <tr>\n",
       "      <th>107</th>\n",
       "      <td>0</td>\n",
       "      <td>0</td>\n",
       "    </tr>\n",
       "    <tr>\n",
       "      <th>542</th>\n",
       "      <td>0</td>\n",
       "      <td>0</td>\n",
       "    </tr>\n",
       "    <tr>\n",
       "      <th>518</th>\n",
       "      <td>0</td>\n",
       "      <td>0</td>\n",
       "    </tr>\n",
       "    <tr>\n",
       "      <th>324</th>\n",
       "      <td>0</td>\n",
       "      <td>0</td>\n",
       "    </tr>\n",
       "    <tr>\n",
       "      <th>488</th>\n",
       "      <td>0</td>\n",
       "      <td>0</td>\n",
       "    </tr>\n",
       "    <tr>\n",
       "      <th>376</th>\n",
       "      <td>0</td>\n",
       "      <td>0</td>\n",
       "    </tr>\n",
       "    <tr>\n",
       "      <th>237</th>\n",
       "      <td>1</td>\n",
       "      <td>1</td>\n",
       "    </tr>\n",
       "  </tbody>\n",
       "</table>\n",
       "</div>"
      ],
      "text/plain": [
       "     actual  predicted\n",
       "421       0          0\n",
       "47        1          1\n",
       "292       0          0\n",
       "186       1          1\n",
       "414       1          1\n",
       "132       1          1\n",
       "161       1          1\n",
       "197       1          1\n",
       "245       0          0\n",
       "453       0          0\n",
       "411       0          0\n",
       "214       1          1\n",
       "283       1          1\n",
       "107       0          0\n",
       "542       0          0\n",
       "518       0          0\n",
       "324       0          0\n",
       "488       0          0\n",
       "376       0          0\n",
       "237       1          1"
      ]
     },
     "execution_count": 46,
     "metadata": {},
     "output_type": "execute_result"
    }
   ],
   "source": [
    "lin_model = linear_model.LogisticRegression(random_state=42)\n",
    "best_log_Reg= RandomizedSearchCV(\n",
    "                                    estimator=linear_model.LogisticRegression(random_state=42),\n",
    "                                    scoring='accuracy', \n",
    "                                    param_distributions=param_grid_log, \n",
    "                                    n_iter=10,\n",
    "                                    cv=10, \n",
    "                                    verbose=0, \n",
    "                                    n_jobs = -1\n",
    "                                    )\n",
    "\n",
    "_=best_log_Reg.fit(X_train, y_train)\n",
    "\n",
    "y_pred_log_reg = best_log_Reg.predict(X_test)\n",
    "results_lr = pd.DataFrame()\n",
    "results_lr['actual'] = y_test\n",
    "results_lr['predicted'] = y_pred_linear\n",
    "results_lr.head(20)"
   ]
  },
  {
   "cell_type": "markdown",
   "id": "3ad042d6-ad66-4a11-81b6-d59e0ba6e3ca",
   "metadata": {},
   "source": [
    "#### List of best parameters found using Randomized Search for Logistic Regression."
   ]
  },
  {
   "cell_type": "code",
   "execution_count": 47,
   "id": "1fce194f-83b9-482a-b501-fff8446343c8",
   "metadata": {
    "tags": []
   },
   "outputs": [
    {
     "name": "stdout",
     "output_type": "stream",
     "text": [
      "Best parameters found:  {'solver': 'liblinear', 'max_iter': 5000}\n"
     ]
    }
   ],
   "source": [
    "random_search_best_params_lr = best_log_Reg.best_params_\n",
    "print('Best parameters found: ', random_search_best_params_lr)"
   ]
  },
  {
   "cell_type": "markdown",
   "id": "83faa7c6-989d-4ea9-8597-ab337cef3ed9",
   "metadata": {},
   "source": [
    "#### Checking the accuracy, recall, precision and f1 score for the model after using Random search."
   ]
  },
  {
   "cell_type": "code",
   "execution_count": 48,
   "id": "ab4bb5ad-6e2d-4e6a-b44d-f909af3119c9",
   "metadata": {
    "tags": []
   },
   "outputs": [
    {
     "name": "stdout",
     "output_type": "stream",
     "text": [
      "***Scores for Logistic Regression using Randomized Search***\n",
      "Logistic Regression Random Accuracy: 0.9707602339181286\n",
      "Logistic Regression Random Confusion Matrix: \n",
      "[[105   3]\n",
      " [  2  61]]\n",
      "Logistic Regression Random Classification Report: \n",
      "              precision    recall  f1-score   support\n",
      "\n",
      "           0       0.98      0.97      0.98       108\n",
      "           1       0.95      0.97      0.96        63\n",
      "\n",
      "    accuracy                           0.97       171\n",
      "   macro avg       0.97      0.97      0.97       171\n",
      "weighted avg       0.97      0.97      0.97       171\n",
      "\n",
      "************************************************\n"
     ]
    }
   ],
   "source": [
    "# Accuracy\n",
    "accuracy_log = accuracy_score(y_test, y_pred_log_reg)\n",
    "# Confusion Matrix\n",
    "conf_matrix_log = confusion_matrix(y_test, y_pred_log_reg)\n",
    "# Classification Report\n",
    "class_report_log = classification_report(y_test, y_pred_log_reg)\n",
    "print('***Scores for Logistic Regression using Randomized Search***')\n",
    "print(f'Logistic Regression Random Accuracy: {accuracy_log}')\n",
    "print(f'Logistic Regression Random Confusion Matrix: \\n{conf_matrix_log}')\n",
    "print(f'Logistic Regression Random Classification Report: \\n{class_report_log}')\n",
    "print('************************************************')"
   ]
  },
  {
   "cell_type": "markdown",
   "id": "01c681b7-79c7-4d43-a620-71dbd022e8c5",
   "metadata": {},
   "source": [
    "### Logistic Regression using Grid Search"
   ]
  },
  {
   "cell_type": "code",
   "execution_count": 49,
   "id": "f86c7ded-9724-4df4-a919-e34c8043d35f",
   "metadata": {
    "tags": []
   },
   "outputs": [
    {
     "data": {
      "text/html": [
       "<div>\n",
       "<style scoped>\n",
       "    .dataframe tbody tr th:only-of-type {\n",
       "        vertical-align: middle;\n",
       "    }\n",
       "\n",
       "    .dataframe tbody tr th {\n",
       "        vertical-align: top;\n",
       "    }\n",
       "\n",
       "    .dataframe thead th {\n",
       "        text-align: right;\n",
       "    }\n",
       "</style>\n",
       "<table border=\"1\" class=\"dataframe\">\n",
       "  <thead>\n",
       "    <tr style=\"text-align: right;\">\n",
       "      <th></th>\n",
       "      <th>actual</th>\n",
       "      <th>predicted</th>\n",
       "    </tr>\n",
       "  </thead>\n",
       "  <tbody>\n",
       "    <tr>\n",
       "      <th>421</th>\n",
       "      <td>0</td>\n",
       "      <td>0</td>\n",
       "    </tr>\n",
       "    <tr>\n",
       "      <th>47</th>\n",
       "      <td>1</td>\n",
       "      <td>1</td>\n",
       "    </tr>\n",
       "    <tr>\n",
       "      <th>292</th>\n",
       "      <td>0</td>\n",
       "      <td>0</td>\n",
       "    </tr>\n",
       "    <tr>\n",
       "      <th>186</th>\n",
       "      <td>1</td>\n",
       "      <td>1</td>\n",
       "    </tr>\n",
       "    <tr>\n",
       "      <th>414</th>\n",
       "      <td>1</td>\n",
       "      <td>1</td>\n",
       "    </tr>\n",
       "    <tr>\n",
       "      <th>132</th>\n",
       "      <td>1</td>\n",
       "      <td>1</td>\n",
       "    </tr>\n",
       "    <tr>\n",
       "      <th>161</th>\n",
       "      <td>1</td>\n",
       "      <td>1</td>\n",
       "    </tr>\n",
       "    <tr>\n",
       "      <th>197</th>\n",
       "      <td>1</td>\n",
       "      <td>1</td>\n",
       "    </tr>\n",
       "    <tr>\n",
       "      <th>245</th>\n",
       "      <td>0</td>\n",
       "      <td>0</td>\n",
       "    </tr>\n",
       "    <tr>\n",
       "      <th>453</th>\n",
       "      <td>0</td>\n",
       "      <td>0</td>\n",
       "    </tr>\n",
       "    <tr>\n",
       "      <th>411</th>\n",
       "      <td>0</td>\n",
       "      <td>0</td>\n",
       "    </tr>\n",
       "    <tr>\n",
       "      <th>214</th>\n",
       "      <td>1</td>\n",
       "      <td>1</td>\n",
       "    </tr>\n",
       "    <tr>\n",
       "      <th>283</th>\n",
       "      <td>1</td>\n",
       "      <td>1</td>\n",
       "    </tr>\n",
       "    <tr>\n",
       "      <th>107</th>\n",
       "      <td>0</td>\n",
       "      <td>0</td>\n",
       "    </tr>\n",
       "    <tr>\n",
       "      <th>542</th>\n",
       "      <td>0</td>\n",
       "      <td>0</td>\n",
       "    </tr>\n",
       "    <tr>\n",
       "      <th>518</th>\n",
       "      <td>0</td>\n",
       "      <td>0</td>\n",
       "    </tr>\n",
       "    <tr>\n",
       "      <th>324</th>\n",
       "      <td>0</td>\n",
       "      <td>0</td>\n",
       "    </tr>\n",
       "    <tr>\n",
       "      <th>488</th>\n",
       "      <td>0</td>\n",
       "      <td>0</td>\n",
       "    </tr>\n",
       "    <tr>\n",
       "      <th>376</th>\n",
       "      <td>0</td>\n",
       "      <td>0</td>\n",
       "    </tr>\n",
       "    <tr>\n",
       "      <th>237</th>\n",
       "      <td>1</td>\n",
       "      <td>1</td>\n",
       "    </tr>\n",
       "  </tbody>\n",
       "</table>\n",
       "</div>"
      ],
      "text/plain": [
       "     actual  predicted\n",
       "421       0          0\n",
       "47        1          1\n",
       "292       0          0\n",
       "186       1          1\n",
       "414       1          1\n",
       "132       1          1\n",
       "161       1          1\n",
       "197       1          1\n",
       "245       0          0\n",
       "453       0          0\n",
       "411       0          0\n",
       "214       1          1\n",
       "283       1          1\n",
       "107       0          0\n",
       "542       0          0\n",
       "518       0          0\n",
       "324       0          0\n",
       "488       0          0\n",
       "376       0          0\n",
       "237       1          1"
      ]
     },
     "execution_count": 49,
     "metadata": {},
     "output_type": "execute_result"
    }
   ],
   "source": [
    "param_grid_GS_lr = { 'solver':['lbfgs','liblinear','saga'],\n",
    "                      'max_iter':[x for x in range(random_search_best_params_lr['max_iter']-100 , random_search_best_params_lr['max_iter']+100,100) if x > 0],\n",
    "                    }\n",
    "\n",
    "best_grid_search_lrmodel = GridSearchCV(\n",
    "                                        estimator=linear_model.LogisticRegression(random_state=42), \n",
    "                                        scoring='accuracy', \n",
    "                                        param_grid=param_grid_GS_lr, \n",
    "                                        cv=10, \n",
    "                                        verbose=0,  \n",
    "                                        n_jobs = -1\n",
    "                                      )\n",
    "_ = best_grid_search_lrmodel.fit(X_train, y_train)\n",
    "                           \n",
    "                           \n",
    "y_pred_lr_GS = best_grid_search_lrmodel.predict(X_test)\n",
    "results_CLF_GS = pd.DataFrame()\n",
    "results_CLF_GS['actual'] = y_test\n",
    "results_CLF_GS['predicted'] = y_pred_lr_GS\n",
    "results_CLF_GS.head(20)"
   ]
  },
  {
   "cell_type": "markdown",
   "id": "5ac9b732-4425-4e9c-ad95-65720062e993",
   "metadata": {},
   "source": [
    "#### List of best parameters found using Grid Search for Logistic Regression."
   ]
  },
  {
   "cell_type": "code",
   "execution_count": 50,
   "id": "b93c3025-1cf9-4c19-9e42-0f7906abc54e",
   "metadata": {
    "tags": []
   },
   "outputs": [
    {
     "name": "stdout",
     "output_type": "stream",
     "text": [
      "Best parameters found:  {'max_iter': 4900, 'solver': 'lbfgs'}\n"
     ]
    }
   ],
   "source": [
    "grid_search_best_params_lr = best_grid_search_lrmodel.best_params_\n",
    "print('Best parameters found: ', grid_search_best_params_lr)"
   ]
  },
  {
   "cell_type": "markdown",
   "id": "c0867caa-a073-482d-ab36-b18f910bb6a8",
   "metadata": {},
   "source": [
    "#### Checking the accuracy, recall, precision and f1 score for the model after using Grid search."
   ]
  },
  {
   "cell_type": "code",
   "execution_count": 51,
   "id": "f70c23fd-b4e3-4b0b-8c39-95706a0b94b0",
   "metadata": {
    "tags": []
   },
   "outputs": [
    {
     "name": "stdout",
     "output_type": "stream",
     "text": [
      "***Scores for Logistic Regression using Grid Search***\n",
      "Logistic Regression Grid Accuracy: 0.9707602339181286\n",
      "Logistic Regression Grid Confusion Matrix: \n",
      "[[105   3]\n",
      " [  2  61]]\n",
      "Logistic Regression Grid Classification Report: \n",
      "              precision    recall  f1-score   support\n",
      "\n",
      "           0       0.98      0.97      0.98       108\n",
      "           1       0.95      0.97      0.96        63\n",
      "\n",
      "    accuracy                           0.97       171\n",
      "   macro avg       0.97      0.97      0.97       171\n",
      "weighted avg       0.97      0.97      0.97       171\n",
      "\n",
      "************************************************\n"
     ]
    }
   ],
   "source": [
    "# Accuracy\n",
    "accuracy_log_GS = accuracy_score(y_test, y_pred_lr_GS)\n",
    "# Confusion Matrix\n",
    "conf_matrix_log_GS = confusion_matrix(y_test, y_pred_lr_GS)\n",
    "# Classification Report\n",
    "class_report_log_GS = classification_report(y_test, y_pred_lr_GS)\n",
    "print('***Scores for Logistic Regression using Grid Search***')\n",
    "print(f'Logistic Regression Grid Accuracy: {accuracy_log}')\n",
    "print(f'Logistic Regression Grid Confusion Matrix: \\n{conf_matrix_log}')\n",
    "print(f'Logistic Regression Grid Classification Report: \\n{class_report_log}')\n",
    "print('************************************************')"
   ]
  },
  {
   "cell_type": "markdown",
   "id": "2049e8bc-cf7e-49f0-957d-a735d14037b1",
   "metadata": {},
   "source": [
    "Random Forest Classifier with randomized search"
   ]
  },
  {
   "cell_type": "code",
   "execution_count": 52,
   "id": "9f21006a-6604-4fcf-b1d4-0d0e0ba97b97",
   "metadata": {
    "tags": []
   },
   "outputs": [],
   "source": [
    " param_grid_RF={'bootstrap': [True, False],\n",
    "                'max_depth': [10, 20, 30, 40, 50, 60, 70, 80, 90, 100, None],\n",
    "                'max_features': ['auto', 'sqrt'],\n",
    "                'min_samples_leaf': [1, 2, 4],\n",
    "                'min_samples_split': [2, 5, 10],\n",
    "                'n_estimators': [200, 400, 600, 800, 1000, 1200, 1400, 1600, 1800, 2000]}"
   ]
  },
  {
   "cell_type": "code",
   "execution_count": 53,
   "id": "c220ba59-b2ed-4173-9633-c8a9a79fe2bc",
   "metadata": {
    "tags": []
   },
   "outputs": [
    {
     "name": "stderr",
     "output_type": "stream",
     "text": [
      "C:\\Users\\athar\\anaconda3\\Lib\\site-packages\\sklearn\\model_selection\\_validation.py:425: FitFailedWarning: \n",
      "40 fits failed out of a total of 100.\n",
      "The score on these train-test partitions for these parameters will be set to nan.\n",
      "If these failures are not expected, you can try to debug them by setting error_score='raise'.\n",
      "\n",
      "Below are more details about the failures:\n",
      "--------------------------------------------------------------------------------\n",
      "33 fits failed with the following error:\n",
      "Traceback (most recent call last):\n",
      "  File \"C:\\Users\\athar\\anaconda3\\Lib\\site-packages\\sklearn\\model_selection\\_validation.py\", line 732, in _fit_and_score\n",
      "    estimator.fit(X_train, y_train, **fit_params)\n",
      "  File \"C:\\Users\\athar\\anaconda3\\Lib\\site-packages\\sklearn\\base.py\", line 1144, in wrapper\n",
      "    estimator._validate_params()\n",
      "  File \"C:\\Users\\athar\\anaconda3\\Lib\\site-packages\\sklearn\\base.py\", line 637, in _validate_params\n",
      "    validate_parameter_constraints(\n",
      "  File \"C:\\Users\\athar\\anaconda3\\Lib\\site-packages\\sklearn\\utils\\_param_validation.py\", line 95, in validate_parameter_constraints\n",
      "    raise InvalidParameterError(\n",
      "sklearn.utils._param_validation.InvalidParameterError: The 'max_features' parameter of RandomForestClassifier must be an int in the range [1, inf), a float in the range (0.0, 1.0], a str among {'log2', 'sqrt'} or None. Got 'auto' instead.\n",
      "\n",
      "--------------------------------------------------------------------------------\n",
      "7 fits failed with the following error:\n",
      "Traceback (most recent call last):\n",
      "  File \"C:\\Users\\athar\\anaconda3\\Lib\\site-packages\\sklearn\\model_selection\\_validation.py\", line 732, in _fit_and_score\n",
      "    estimator.fit(X_train, y_train, **fit_params)\n",
      "  File \"C:\\Users\\athar\\anaconda3\\Lib\\site-packages\\sklearn\\base.py\", line 1144, in wrapper\n",
      "    estimator._validate_params()\n",
      "  File \"C:\\Users\\athar\\anaconda3\\Lib\\site-packages\\sklearn\\base.py\", line 637, in _validate_params\n",
      "    validate_parameter_constraints(\n",
      "  File \"C:\\Users\\athar\\anaconda3\\Lib\\site-packages\\sklearn\\utils\\_param_validation.py\", line 95, in validate_parameter_constraints\n",
      "    raise InvalidParameterError(\n",
      "sklearn.utils._param_validation.InvalidParameterError: The 'max_features' parameter of RandomForestClassifier must be an int in the range [1, inf), a float in the range (0.0, 1.0], a str among {'sqrt', 'log2'} or None. Got 'auto' instead.\n",
      "\n",
      "  warnings.warn(some_fits_failed_message, FitFailedWarning)\n",
      "C:\\Users\\athar\\anaconda3\\Lib\\site-packages\\sklearn\\model_selection\\_search.py:976: UserWarning: One or more of the test scores are non-finite: [       nan 0.94730769 0.94980769 0.94980769 0.94980769 0.94980769\n",
      " 0.94980769        nan        nan        nan]\n",
      "  warnings.warn(\n"
     ]
    },
    {
     "data": {
      "text/html": [
       "<div>\n",
       "<style scoped>\n",
       "    .dataframe tbody tr th:only-of-type {\n",
       "        vertical-align: middle;\n",
       "    }\n",
       "\n",
       "    .dataframe tbody tr th {\n",
       "        vertical-align: top;\n",
       "    }\n",
       "\n",
       "    .dataframe thead th {\n",
       "        text-align: right;\n",
       "    }\n",
       "</style>\n",
       "<table border=\"1\" class=\"dataframe\">\n",
       "  <thead>\n",
       "    <tr style=\"text-align: right;\">\n",
       "      <th></th>\n",
       "      <th>actual</th>\n",
       "      <th>predicted</th>\n",
       "    </tr>\n",
       "  </thead>\n",
       "  <tbody>\n",
       "    <tr>\n",
       "      <th>421</th>\n",
       "      <td>0</td>\n",
       "      <td>1</td>\n",
       "    </tr>\n",
       "    <tr>\n",
       "      <th>47</th>\n",
       "      <td>1</td>\n",
       "      <td>1</td>\n",
       "    </tr>\n",
       "    <tr>\n",
       "      <th>292</th>\n",
       "      <td>0</td>\n",
       "      <td>0</td>\n",
       "    </tr>\n",
       "    <tr>\n",
       "      <th>186</th>\n",
       "      <td>1</td>\n",
       "      <td>1</td>\n",
       "    </tr>\n",
       "    <tr>\n",
       "      <th>414</th>\n",
       "      <td>1</td>\n",
       "      <td>1</td>\n",
       "    </tr>\n",
       "    <tr>\n",
       "      <th>132</th>\n",
       "      <td>1</td>\n",
       "      <td>1</td>\n",
       "    </tr>\n",
       "    <tr>\n",
       "      <th>161</th>\n",
       "      <td>1</td>\n",
       "      <td>1</td>\n",
       "    </tr>\n",
       "    <tr>\n",
       "      <th>197</th>\n",
       "      <td>1</td>\n",
       "      <td>1</td>\n",
       "    </tr>\n",
       "    <tr>\n",
       "      <th>245</th>\n",
       "      <td>0</td>\n",
       "      <td>0</td>\n",
       "    </tr>\n",
       "    <tr>\n",
       "      <th>453</th>\n",
       "      <td>0</td>\n",
       "      <td>0</td>\n",
       "    </tr>\n",
       "    <tr>\n",
       "      <th>411</th>\n",
       "      <td>0</td>\n",
       "      <td>0</td>\n",
       "    </tr>\n",
       "    <tr>\n",
       "      <th>214</th>\n",
       "      <td>1</td>\n",
       "      <td>1</td>\n",
       "    </tr>\n",
       "    <tr>\n",
       "      <th>283</th>\n",
       "      <td>1</td>\n",
       "      <td>1</td>\n",
       "    </tr>\n",
       "    <tr>\n",
       "      <th>107</th>\n",
       "      <td>0</td>\n",
       "      <td>0</td>\n",
       "    </tr>\n",
       "    <tr>\n",
       "      <th>542</th>\n",
       "      <td>0</td>\n",
       "      <td>0</td>\n",
       "    </tr>\n",
       "    <tr>\n",
       "      <th>518</th>\n",
       "      <td>0</td>\n",
       "      <td>0</td>\n",
       "    </tr>\n",
       "    <tr>\n",
       "      <th>324</th>\n",
       "      <td>0</td>\n",
       "      <td>0</td>\n",
       "    </tr>\n",
       "    <tr>\n",
       "      <th>488</th>\n",
       "      <td>0</td>\n",
       "      <td>0</td>\n",
       "    </tr>\n",
       "    <tr>\n",
       "      <th>376</th>\n",
       "      <td>0</td>\n",
       "      <td>0</td>\n",
       "    </tr>\n",
       "    <tr>\n",
       "      <th>237</th>\n",
       "      <td>1</td>\n",
       "      <td>1</td>\n",
       "    </tr>\n",
       "  </tbody>\n",
       "</table>\n",
       "</div>"
      ],
      "text/plain": [
       "     actual  predicted\n",
       "421       0          1\n",
       "47        1          1\n",
       "292       0          0\n",
       "186       1          1\n",
       "414       1          1\n",
       "132       1          1\n",
       "161       1          1\n",
       "197       1          1\n",
       "245       0          0\n",
       "453       0          0\n",
       "411       0          0\n",
       "214       1          1\n",
       "283       1          1\n",
       "107       0          0\n",
       "542       0          0\n",
       "518       0          0\n",
       "324       0          0\n",
       "488       0          0\n",
       "376       0          0\n",
       "237       1          1"
      ]
     },
     "execution_count": 53,
     "metadata": {},
     "output_type": "execute_result"
    }
   ],
   "source": [
    "rf=RandomForestClassifier(random_state=42)\n",
    "best_random_rf= RandomizedSearchCV(\n",
    "                                    estimator=rf,\n",
    "                                    scoring='accuracy', \n",
    "                                    param_distributions=param_grid_RF, \n",
    "                                    n_iter=10,\n",
    "                                    cv=10, \n",
    "                                    verbose=0, \n",
    "                                    n_jobs = -1\n",
    "                                    )\n",
    "_ = best_random_rf.fit(X_train, y_train)\n",
    "                           \n",
    "                           \n",
    "y_pred_rf_rs = best_random_rf.predict(X_test)\n",
    "results_rf_rs = pd.DataFrame()\n",
    "results_rf_rs['actual'] = y_test\n",
    "results_rf_rs['predicted'] = y_pred_rf_rs\n",
    "results_rf_rs.head(20)\n"
   ]
  },
  {
   "cell_type": "code",
   "execution_count": 57,
   "id": "657e0ddf-93d4-4f46-b530-42a841da3930",
   "metadata": {
    "tags": []
   },
   "outputs": [
    {
     "name": "stdout",
     "output_type": "stream",
     "text": [
      "Best parameters found:  {'n_estimators': 1600, 'min_samples_split': 2, 'min_samples_leaf': 4, 'max_features': 'sqrt', 'max_depth': 50, 'bootstrap': True}\n"
     ]
    }
   ],
   "source": [
    "random_search_best_params_rf = best_random_rf.best_params_\n",
    "print('Best parameters found: ', random_search_best_params_rf)"
   ]
  },
  {
   "cell_type": "code",
   "execution_count": 54,
   "id": "2b8179e0-9f28-478b-bc5c-6e26fe08e6dd",
   "metadata": {
    "tags": []
   },
   "outputs": [
    {
     "name": "stdout",
     "output_type": "stream",
     "text": [
      "***Scores for Random Forest using Random Search***\n",
      "Random Forest using Random Accuracy: 0.9415204678362573\n",
      "Random Forest using Random Confusion Matrix: \n",
      "[[104   4]\n",
      " [  6  57]]\n",
      "Random Forest using Random Classification Report: \n",
      "              precision    recall  f1-score   support\n",
      "\n",
      "           0       0.95      0.96      0.95       108\n",
      "           1       0.93      0.90      0.92        63\n",
      "\n",
      "    accuracy                           0.94       171\n",
      "   macro avg       0.94      0.93      0.94       171\n",
      "weighted avg       0.94      0.94      0.94       171\n",
      "\n",
      "************************************************\n"
     ]
    }
   ],
   "source": [
    "# Accuracy\n",
    "accuracy_rf_rs = accuracy_score(y_test, y_pred_rf_rs)\n",
    "# Confusion Matrix\n",
    "conf_matrix_rf_rs = confusion_matrix(y_test, y_pred_rf_rs)\n",
    "# Classification Report\n",
    "class_report_rf_rs = classification_report(y_test, y_pred_rf_rs)\n",
    "print('***Scores for Random Forest using Random Search***')\n",
    "print(f'Random Forest using Random Accuracy: {accuracy_rf_rs}')\n",
    "print(f'Random Forest using Random Confusion Matrix: \\n{conf_matrix_rf_rs}')\n",
    "print(f'Random Forest using Random Classification Report: \\n{class_report_rf_rs}')\n",
    "print('************************************************')"
   ]
  },
  {
   "cell_type": "markdown",
   "id": "20c9bdaf-30c6-473a-bf3c-142780400595",
   "metadata": {},
   "source": [
    "Random Forest Classifier with Grid Search"
   ]
  },
  {
   "cell_type": "code",
   "execution_count": 67,
   "id": "4e244b06-27eb-4a2a-bd85-71580610b932",
   "metadata": {
    "tags": []
   },
   "outputs": [
    {
     "name": "stderr",
     "output_type": "stream",
     "text": [
      "C:\\Users\\athar\\anaconda3\\Lib\\site-packages\\sklearn\\model_selection\\_validation.py:425: FitFailedWarning: \n",
      "80 fits failed out of a total of 160.\n",
      "The score on these train-test partitions for these parameters will be set to nan.\n",
      "If these failures are not expected, you can try to debug them by setting error_score='raise'.\n",
      "\n",
      "Below are more details about the failures:\n",
      "--------------------------------------------------------------------------------\n",
      "65 fits failed with the following error:\n",
      "Traceback (most recent call last):\n",
      "  File \"C:\\Users\\athar\\anaconda3\\Lib\\site-packages\\sklearn\\model_selection\\_validation.py\", line 732, in _fit_and_score\n",
      "    estimator.fit(X_train, y_train, **fit_params)\n",
      "  File \"C:\\Users\\athar\\anaconda3\\Lib\\site-packages\\sklearn\\base.py\", line 1144, in wrapper\n",
      "    estimator._validate_params()\n",
      "  File \"C:\\Users\\athar\\anaconda3\\Lib\\site-packages\\sklearn\\base.py\", line 637, in _validate_params\n",
      "    validate_parameter_constraints(\n",
      "  File \"C:\\Users\\athar\\anaconda3\\Lib\\site-packages\\sklearn\\utils\\_param_validation.py\", line 95, in validate_parameter_constraints\n",
      "    raise InvalidParameterError(\n",
      "sklearn.utils._param_validation.InvalidParameterError: The 'max_features' parameter of RandomForestClassifier must be an int in the range [1, inf), a float in the range (0.0, 1.0], a str among {'sqrt', 'log2'} or None. Got 'auto' instead.\n",
      "\n",
      "--------------------------------------------------------------------------------\n",
      "15 fits failed with the following error:\n",
      "Traceback (most recent call last):\n",
      "  File \"C:\\Users\\athar\\anaconda3\\Lib\\site-packages\\sklearn\\model_selection\\_validation.py\", line 732, in _fit_and_score\n",
      "    estimator.fit(X_train, y_train, **fit_params)\n",
      "  File \"C:\\Users\\athar\\anaconda3\\Lib\\site-packages\\sklearn\\base.py\", line 1144, in wrapper\n",
      "    estimator._validate_params()\n",
      "  File \"C:\\Users\\athar\\anaconda3\\Lib\\site-packages\\sklearn\\base.py\", line 637, in _validate_params\n",
      "    validate_parameter_constraints(\n",
      "  File \"C:\\Users\\athar\\anaconda3\\Lib\\site-packages\\sklearn\\utils\\_param_validation.py\", line 95, in validate_parameter_constraints\n",
      "    raise InvalidParameterError(\n",
      "sklearn.utils._param_validation.InvalidParameterError: The 'max_features' parameter of RandomForestClassifier must be an int in the range [1, inf), a float in the range (0.0, 1.0], a str among {'log2', 'sqrt'} or None. Got 'auto' instead.\n",
      "\n",
      "  warnings.warn(some_fits_failed_message, FitFailedWarning)\n",
      "C:\\Users\\athar\\anaconda3\\Lib\\site-packages\\sklearn\\model_selection\\_search.py:976: UserWarning: One or more of the test scores are non-finite: [       nan        nan        nan        nan 0.94980769 0.94980769\n",
      " 0.94980769 0.95230769        nan        nan        nan        nan\n",
      " 0.94980769 0.94980769 0.94980769 0.94980769]\n",
      "  warnings.warn(\n"
     ]
    },
    {
     "data": {
      "text/html": [
       "<div>\n",
       "<style scoped>\n",
       "    .dataframe tbody tr th:only-of-type {\n",
       "        vertical-align: middle;\n",
       "    }\n",
       "\n",
       "    .dataframe tbody tr th {\n",
       "        vertical-align: top;\n",
       "    }\n",
       "\n",
       "    .dataframe thead th {\n",
       "        text-align: right;\n",
       "    }\n",
       "</style>\n",
       "<table border=\"1\" class=\"dataframe\">\n",
       "  <thead>\n",
       "    <tr style=\"text-align: right;\">\n",
       "      <th></th>\n",
       "      <th>actual</th>\n",
       "      <th>predicted</th>\n",
       "    </tr>\n",
       "  </thead>\n",
       "  <tbody>\n",
       "    <tr>\n",
       "      <th>421</th>\n",
       "      <td>0</td>\n",
       "      <td>1</td>\n",
       "    </tr>\n",
       "    <tr>\n",
       "      <th>47</th>\n",
       "      <td>1</td>\n",
       "      <td>1</td>\n",
       "    </tr>\n",
       "    <tr>\n",
       "      <th>292</th>\n",
       "      <td>0</td>\n",
       "      <td>0</td>\n",
       "    </tr>\n",
       "    <tr>\n",
       "      <th>186</th>\n",
       "      <td>1</td>\n",
       "      <td>1</td>\n",
       "    </tr>\n",
       "    <tr>\n",
       "      <th>414</th>\n",
       "      <td>1</td>\n",
       "      <td>1</td>\n",
       "    </tr>\n",
       "    <tr>\n",
       "      <th>132</th>\n",
       "      <td>1</td>\n",
       "      <td>1</td>\n",
       "    </tr>\n",
       "    <tr>\n",
       "      <th>161</th>\n",
       "      <td>1</td>\n",
       "      <td>1</td>\n",
       "    </tr>\n",
       "    <tr>\n",
       "      <th>197</th>\n",
       "      <td>1</td>\n",
       "      <td>1</td>\n",
       "    </tr>\n",
       "    <tr>\n",
       "      <th>245</th>\n",
       "      <td>0</td>\n",
       "      <td>0</td>\n",
       "    </tr>\n",
       "    <tr>\n",
       "      <th>453</th>\n",
       "      <td>0</td>\n",
       "      <td>0</td>\n",
       "    </tr>\n",
       "    <tr>\n",
       "      <th>411</th>\n",
       "      <td>0</td>\n",
       "      <td>0</td>\n",
       "    </tr>\n",
       "    <tr>\n",
       "      <th>214</th>\n",
       "      <td>1</td>\n",
       "      <td>1</td>\n",
       "    </tr>\n",
       "    <tr>\n",
       "      <th>283</th>\n",
       "      <td>1</td>\n",
       "      <td>1</td>\n",
       "    </tr>\n",
       "    <tr>\n",
       "      <th>107</th>\n",
       "      <td>0</td>\n",
       "      <td>0</td>\n",
       "    </tr>\n",
       "    <tr>\n",
       "      <th>542</th>\n",
       "      <td>0</td>\n",
       "      <td>0</td>\n",
       "    </tr>\n",
       "    <tr>\n",
       "      <th>518</th>\n",
       "      <td>0</td>\n",
       "      <td>0</td>\n",
       "    </tr>\n",
       "    <tr>\n",
       "      <th>324</th>\n",
       "      <td>0</td>\n",
       "      <td>0</td>\n",
       "    </tr>\n",
       "    <tr>\n",
       "      <th>488</th>\n",
       "      <td>0</td>\n",
       "      <td>0</td>\n",
       "    </tr>\n",
       "    <tr>\n",
       "      <th>376</th>\n",
       "      <td>0</td>\n",
       "      <td>0</td>\n",
       "    </tr>\n",
       "    <tr>\n",
       "      <th>237</th>\n",
       "      <td>1</td>\n",
       "      <td>1</td>\n",
       "    </tr>\n",
       "  </tbody>\n",
       "</table>\n",
       "</div>"
      ],
      "text/plain": [
       "     actual  predicted\n",
       "421       0          1\n",
       "47        1          1\n",
       "292       0          0\n",
       "186       1          1\n",
       "414       1          1\n",
       "132       1          1\n",
       "161       1          1\n",
       "197       1          1\n",
       "245       0          0\n",
       "453       0          0\n",
       "411       0          0\n",
       "214       1          1\n",
       "283       1          1\n",
       "107       0          0\n",
       "542       0          0\n",
       "518       0          0\n",
       "324       0          0\n",
       "488       0          0\n",
       "376       0          0\n",
       "237       1          1"
      ]
     },
     "execution_count": 67,
     "metadata": {},
     "output_type": "execute_result"
    }
   ],
   "source": [
    "param_grid_GS_rf = { 'bootstrap': [True, False],\n",
    "                     'max_depth':[x for x in range(random_search_best_params_rf['max_depth']-5 , random_search_best_params_rf['max_depth']+5,10) if x > 10],\n",
    "                     'max_features': ['auto', 'sqrt'],\n",
    "                     'min_samples_leaf':[x for x in range(random_search_best_params_rf['min_samples_leaf']-2 , random_search_best_params_rf['min_samples_leaf']+2,2) if x > 3],\n",
    "                     'min_samples_split':[x for x in range(max(1,random_search_best_params_rf['min_samples_split']-5) , random_search_best_params_rf['min_samples_split']+5,5) if x > 2],\n",
    "                     'n_estimators':[x for x in range(random_search_best_params_rf['n_estimators']-200 , random_search_best_params_rf['n_estimators']+200,100) if x > 100],\n",
    "                   }\n",
    "\n",
    "best_grid_search_rfmodel = GridSearchCV(\n",
    "                                        estimator=rf, \n",
    "                                        scoring='accuracy', \n",
    "                                        param_grid=param_grid_GS_rf, \n",
    "                                        cv=10, \n",
    "                                        verbose=0,  \n",
    "                                        n_jobs = -1\n",
    "                                      )\n",
    "_ = best_grid_search_rfmodel.fit(X_train, y_train)\n",
    "                           \n",
    "                           \n",
    "y_pred_rf_GS = best_grid_search_rfmodel.predict(X_test)\n",
    "results_CLF_GS = pd.DataFrame()\n",
    "results_CLF_GS['actual'] = y_test\n",
    "results_CLF_GS['predicted'] = y_pred_rf_GS\n",
    "results_CLF_GS.head(20)"
   ]
  },
  {
   "cell_type": "code",
   "execution_count": 78,
   "id": "81ae3d07-de97-4b61-ab39-c4bdc1c5056c",
   "metadata": {
    "tags": []
   },
   "outputs": [
    {
     "name": "stdout",
     "output_type": "stream",
     "text": [
      "Best parameters found:  {'bootstrap': True, 'max_depth': 45, 'max_features': 'sqrt', 'min_samples_leaf': 4, 'min_samples_split': 6, 'n_estimators': 1700}\n"
     ]
    }
   ],
   "source": [
    "grid_search_best_params_rf = best_grid_search_rfmodel.best_params_\n",
    "print('Best parameters found: ', grid_search_best_params_rf)"
   ]
  },
  {
   "cell_type": "code",
   "execution_count": 70,
   "id": "f368dc8b-f93c-4c88-bafb-ab74a34c2cd2",
   "metadata": {
    "tags": []
   },
   "outputs": [
    {
     "name": "stdout",
     "output_type": "stream",
     "text": [
      "***Scores for Random Forest using Random Search***\n",
      "Random Forest using Random Accuracy: 0.9415204678362573\n",
      "Random Forest using Random Confusion Matrix: \n",
      "[[104   4]\n",
      " [  6  57]]\n",
      "Random Forest using Random Classification Report: \n",
      "              precision    recall  f1-score   support\n",
      "\n",
      "           0       0.95      0.96      0.95       108\n",
      "           1       0.93      0.90      0.92        63\n",
      "\n",
      "    accuracy                           0.94       171\n",
      "   macro avg       0.94      0.93      0.94       171\n",
      "weighted avg       0.94      0.94      0.94       171\n",
      "\n",
      "************************************************\n"
     ]
    }
   ],
   "source": [
    "# Accuracy\n",
    "accuracy_rf_gs = accuracy_score(y_test, y_pred_rf_GS)\n",
    "# Confusion Matrix\n",
    "conf_matrix_rf_gs = confusion_matrix(y_test, y_pred_rf_GS)\n",
    "# Classification Report\n",
    "class_report_rf_gs = classification_report(y_test, y_pred_rf_GS)\n",
    "print('***Scores for Random Forest using Grid Search***')\n",
    "print(f'Random Forest using Grid Accuracy: {accuracy_rf_gs}')\n",
    "print(f'Random Forest using Grid Confusion Matrix: \\n{conf_matrix_rf_gs}')\n",
    "print(f'Random Forest using Grid Classification Report: \\n{class_report_rf_gs}')\n",
    "print('************************************************')"
   ]
  },
  {
   "cell_type": "markdown",
   "id": "f310fc97-ebb4-4784-a615-43329f20ac31",
   "metadata": {},
   "source": [
    "Adaboost Classifier with random search."
   ]
  },
  {
   "cell_type": "code",
   "execution_count": 77,
   "id": "eb290b3e-4812-47b0-ab08-64b3e8c0e641",
   "metadata": {
    "tags": []
   },
   "outputs": [
    {
     "name": "stderr",
     "output_type": "stream",
     "text": [
      "C:\\Users\\athar\\anaconda3\\Lib\\site-packages\\sklearn\\ensemble\\_base.py:156: FutureWarning: `base_estimator` was renamed to `estimator` in version 1.2 and will be removed in 1.4.\n",
      "  warnings.warn(\n"
     ]
    },
    {
     "data": {
      "text/html": [
       "<div>\n",
       "<style scoped>\n",
       "    .dataframe tbody tr th:only-of-type {\n",
       "        vertical-align: middle;\n",
       "    }\n",
       "\n",
       "    .dataframe tbody tr th {\n",
       "        vertical-align: top;\n",
       "    }\n",
       "\n",
       "    .dataframe thead th {\n",
       "        text-align: right;\n",
       "    }\n",
       "</style>\n",
       "<table border=\"1\" class=\"dataframe\">\n",
       "  <thead>\n",
       "    <tr style=\"text-align: right;\">\n",
       "      <th></th>\n",
       "      <th>actual</th>\n",
       "      <th>predicted</th>\n",
       "    </tr>\n",
       "  </thead>\n",
       "  <tbody>\n",
       "    <tr>\n",
       "      <th>421</th>\n",
       "      <td>0</td>\n",
       "      <td>0</td>\n",
       "    </tr>\n",
       "    <tr>\n",
       "      <th>47</th>\n",
       "      <td>1</td>\n",
       "      <td>1</td>\n",
       "    </tr>\n",
       "    <tr>\n",
       "      <th>292</th>\n",
       "      <td>0</td>\n",
       "      <td>0</td>\n",
       "    </tr>\n",
       "    <tr>\n",
       "      <th>186</th>\n",
       "      <td>1</td>\n",
       "      <td>1</td>\n",
       "    </tr>\n",
       "    <tr>\n",
       "      <th>414</th>\n",
       "      <td>1</td>\n",
       "      <td>0</td>\n",
       "    </tr>\n",
       "    <tr>\n",
       "      <th>132</th>\n",
       "      <td>1</td>\n",
       "      <td>1</td>\n",
       "    </tr>\n",
       "    <tr>\n",
       "      <th>161</th>\n",
       "      <td>1</td>\n",
       "      <td>1</td>\n",
       "    </tr>\n",
       "    <tr>\n",
       "      <th>197</th>\n",
       "      <td>1</td>\n",
       "      <td>1</td>\n",
       "    </tr>\n",
       "    <tr>\n",
       "      <th>245</th>\n",
       "      <td>0</td>\n",
       "      <td>0</td>\n",
       "    </tr>\n",
       "    <tr>\n",
       "      <th>453</th>\n",
       "      <td>0</td>\n",
       "      <td>0</td>\n",
       "    </tr>\n",
       "    <tr>\n",
       "      <th>411</th>\n",
       "      <td>0</td>\n",
       "      <td>0</td>\n",
       "    </tr>\n",
       "    <tr>\n",
       "      <th>214</th>\n",
       "      <td>1</td>\n",
       "      <td>1</td>\n",
       "    </tr>\n",
       "    <tr>\n",
       "      <th>283</th>\n",
       "      <td>1</td>\n",
       "      <td>1</td>\n",
       "    </tr>\n",
       "    <tr>\n",
       "      <th>107</th>\n",
       "      <td>0</td>\n",
       "      <td>0</td>\n",
       "    </tr>\n",
       "    <tr>\n",
       "      <th>542</th>\n",
       "      <td>0</td>\n",
       "      <td>0</td>\n",
       "    </tr>\n",
       "    <tr>\n",
       "      <th>518</th>\n",
       "      <td>0</td>\n",
       "      <td>0</td>\n",
       "    </tr>\n",
       "    <tr>\n",
       "      <th>324</th>\n",
       "      <td>0</td>\n",
       "      <td>0</td>\n",
       "    </tr>\n",
       "    <tr>\n",
       "      <th>488</th>\n",
       "      <td>0</td>\n",
       "      <td>0</td>\n",
       "    </tr>\n",
       "    <tr>\n",
       "      <th>376</th>\n",
       "      <td>0</td>\n",
       "      <td>0</td>\n",
       "    </tr>\n",
       "    <tr>\n",
       "      <th>237</th>\n",
       "      <td>1</td>\n",
       "      <td>1</td>\n",
       "    </tr>\n",
       "  </tbody>\n",
       "</table>\n",
       "</div>"
      ],
      "text/plain": [
       "     actual  predicted\n",
       "421       0          0\n",
       "47        1          1\n",
       "292       0          0\n",
       "186       1          1\n",
       "414       1          0\n",
       "132       1          1\n",
       "161       1          1\n",
       "197       1          1\n",
       "245       0          0\n",
       "453       0          0\n",
       "411       0          0\n",
       "214       1          1\n",
       "283       1          1\n",
       "107       0          0\n",
       "542       0          0\n",
       "518       0          0\n",
       "324       0          0\n",
       "488       0          0\n",
       "376       0          0\n",
       "237       1          1"
      ]
     },
     "execution_count": 77,
     "metadata": {},
     "output_type": "execute_result"
    }
   ],
   "source": [
    "ada_classifier = AdaBoostClassifier(base_estimator=DecisionTreeClassifier())\n",
    "\n",
    "param_grid_AC_rs = {\n",
    "    'n_estimators': [50, 100, 200],\n",
    "    'learning_rate': [0.01, 0.1, 1.0],\n",
    "    'base_estimator': [\n",
    "        DecisionTreeClassifier(max_depth=1),\n",
    "        DecisionTreeClassifier(max_depth=2),\n",
    "    ]\n",
    "}\n",
    "\n",
    "best_random_search_ACmodel = RandomizedSearchCV(\n",
    "                                        estimator=ada_classifier, \n",
    "                                        scoring='accuracy', \n",
    "                                        param_distributions=param_grid_AC_rs, \n",
    "                                        cv=10, \n",
    "                                        verbose=0,  \n",
    "                                        n_jobs = -1\n",
    "                                      )\n",
    "_ = best_random_search_ACmodel.fit(X_train, y_train)\n",
    "                           \n",
    "                           \n",
    "y_pred_ac_rs = best_random_search_ACmodel.predict(X_test)\n",
    "results_ac_rs = pd.DataFrame()\n",
    "results_ac_rs['actual'] = y_test\n",
    "results_ac_rs['predicted'] = y_pred_ac_rs\n",
    "results_ac_rs.head(20)"
   ]
  },
  {
   "cell_type": "code",
   "execution_count": 84,
   "id": "07dad51e-64c7-4128-ac17-4970257c8006",
   "metadata": {
    "tags": []
   },
   "outputs": [
    {
     "name": "stdout",
     "output_type": "stream",
     "text": [
      "Best parameters found:  {'n_estimators': 100, 'learning_rate': 0.1, 'base_estimator': DecisionTreeClassifier(max_depth=2)}\n"
     ]
    }
   ],
   "source": [
    "random_search_best_params_ac = best_random_search_ACmodel.best_params_\n",
    "print('Best parameters found: ', random_search_best_params_ac)"
   ]
  },
  {
   "cell_type": "code",
   "execution_count": 85,
   "id": "d9ec2b95-e605-4dab-b6a1-8355e4f2d77c",
   "metadata": {
    "tags": []
   },
   "outputs": [
    {
     "name": "stdout",
     "output_type": "stream",
     "text": [
      "***Scores for Adaboost using Random Search***\n",
      "Adaboost using Random Accuracy: 0.9649122807017544\n",
      "Adaboost using Random Confusion Matrix: \n",
      "[[106   2]\n",
      " [  4  59]]\n",
      "Adaboost using Random Classification Report: \n",
      "              precision    recall  f1-score   support\n",
      "\n",
      "           0       0.96      0.98      0.97       108\n",
      "           1       0.97      0.94      0.95        63\n",
      "\n",
      "    accuracy                           0.96       171\n",
      "   macro avg       0.97      0.96      0.96       171\n",
      "weighted avg       0.96      0.96      0.96       171\n",
      "\n",
      "************************************************\n"
     ]
    }
   ],
   "source": [
    "# Accuracy\n",
    "accuracy_rs_ac = accuracy_score(y_test, y_pred_ac_rs)\n",
    "# Confusion Matrix\n",
    "conf_matrix_rs_ac = confusion_matrix(y_test, y_pred_ac_rs)\n",
    "# Classification Report\n",
    "class_report_rs_ac = classification_report(y_test, y_pred_ac_rs)\n",
    "print('***Scores for Adaboost using Random Search***')\n",
    "print(f'Adaboost using Random Accuracy: {accuracy_rs_ac}')\n",
    "print(f'Adaboost using Random Confusion Matrix: \\n{conf_matrix_rs_ac}')\n",
    "print(f'Adaboost using Random Classification Report: \\n{class_report_rs_ac}')\n",
    "print('************************************************')"
   ]
  },
  {
   "cell_type": "markdown",
   "id": "6daf79e4-255d-41dd-87a2-a9ad5ccaca64",
   "metadata": {},
   "source": [
    "Adaboost Classifier with Grid Search."
   ]
  },
  {
   "cell_type": "code",
   "execution_count": 89,
   "id": "309d737e-4cbb-4384-b101-58dff4accb4c",
   "metadata": {
    "tags": []
   },
   "outputs": [
    {
     "name": "stderr",
     "output_type": "stream",
     "text": [
      "C:\\Users\\athar\\anaconda3\\Lib\\site-packages\\sklearn\\ensemble\\_base.py:156: FutureWarning: `base_estimator` was renamed to `estimator` in version 1.2 and will be removed in 1.4.\n",
      "  warnings.warn(\n"
     ]
    },
    {
     "data": {
      "text/html": [
       "<div>\n",
       "<style scoped>\n",
       "    .dataframe tbody tr th:only-of-type {\n",
       "        vertical-align: middle;\n",
       "    }\n",
       "\n",
       "    .dataframe tbody tr th {\n",
       "        vertical-align: top;\n",
       "    }\n",
       "\n",
       "    .dataframe thead th {\n",
       "        text-align: right;\n",
       "    }\n",
       "</style>\n",
       "<table border=\"1\" class=\"dataframe\">\n",
       "  <thead>\n",
       "    <tr style=\"text-align: right;\">\n",
       "      <th></th>\n",
       "      <th>actual</th>\n",
       "      <th>predicted</th>\n",
       "    </tr>\n",
       "  </thead>\n",
       "  <tbody>\n",
       "    <tr>\n",
       "      <th>421</th>\n",
       "      <td>0</td>\n",
       "      <td>0</td>\n",
       "    </tr>\n",
       "    <tr>\n",
       "      <th>47</th>\n",
       "      <td>1</td>\n",
       "      <td>1</td>\n",
       "    </tr>\n",
       "    <tr>\n",
       "      <th>292</th>\n",
       "      <td>0</td>\n",
       "      <td>0</td>\n",
       "    </tr>\n",
       "    <tr>\n",
       "      <th>186</th>\n",
       "      <td>1</td>\n",
       "      <td>1</td>\n",
       "    </tr>\n",
       "    <tr>\n",
       "      <th>414</th>\n",
       "      <td>1</td>\n",
       "      <td>0</td>\n",
       "    </tr>\n",
       "    <tr>\n",
       "      <th>132</th>\n",
       "      <td>1</td>\n",
       "      <td>1</td>\n",
       "    </tr>\n",
       "    <tr>\n",
       "      <th>161</th>\n",
       "      <td>1</td>\n",
       "      <td>1</td>\n",
       "    </tr>\n",
       "    <tr>\n",
       "      <th>197</th>\n",
       "      <td>1</td>\n",
       "      <td>1</td>\n",
       "    </tr>\n",
       "    <tr>\n",
       "      <th>245</th>\n",
       "      <td>0</td>\n",
       "      <td>0</td>\n",
       "    </tr>\n",
       "    <tr>\n",
       "      <th>453</th>\n",
       "      <td>0</td>\n",
       "      <td>0</td>\n",
       "    </tr>\n",
       "    <tr>\n",
       "      <th>411</th>\n",
       "      <td>0</td>\n",
       "      <td>0</td>\n",
       "    </tr>\n",
       "    <tr>\n",
       "      <th>214</th>\n",
       "      <td>1</td>\n",
       "      <td>1</td>\n",
       "    </tr>\n",
       "    <tr>\n",
       "      <th>283</th>\n",
       "      <td>1</td>\n",
       "      <td>1</td>\n",
       "    </tr>\n",
       "    <tr>\n",
       "      <th>107</th>\n",
       "      <td>0</td>\n",
       "      <td>0</td>\n",
       "    </tr>\n",
       "    <tr>\n",
       "      <th>542</th>\n",
       "      <td>0</td>\n",
       "      <td>0</td>\n",
       "    </tr>\n",
       "    <tr>\n",
       "      <th>518</th>\n",
       "      <td>0</td>\n",
       "      <td>0</td>\n",
       "    </tr>\n",
       "    <tr>\n",
       "      <th>324</th>\n",
       "      <td>0</td>\n",
       "      <td>0</td>\n",
       "    </tr>\n",
       "    <tr>\n",
       "      <th>488</th>\n",
       "      <td>0</td>\n",
       "      <td>0</td>\n",
       "    </tr>\n",
       "    <tr>\n",
       "      <th>376</th>\n",
       "      <td>0</td>\n",
       "      <td>0</td>\n",
       "    </tr>\n",
       "    <tr>\n",
       "      <th>237</th>\n",
       "      <td>1</td>\n",
       "      <td>1</td>\n",
       "    </tr>\n",
       "  </tbody>\n",
       "</table>\n",
       "</div>"
      ],
      "text/plain": [
       "     actual  predicted\n",
       "421       0          0\n",
       "47        1          1\n",
       "292       0          0\n",
       "186       1          1\n",
       "414       1          0\n",
       "132       1          1\n",
       "161       1          1\n",
       "197       1          1\n",
       "245       0          0\n",
       "453       0          0\n",
       "411       0          0\n",
       "214       1          1\n",
       "283       1          1\n",
       "107       0          0\n",
       "542       0          0\n",
       "518       0          0\n",
       "324       0          0\n",
       "488       0          0\n",
       "376       0          0\n",
       "237       1          1"
      ]
     },
     "execution_count": 89,
     "metadata": {},
     "output_type": "execute_result"
    }
   ],
   "source": [
    "param_grid_GS_rf = { 'n_estimators':[x for x in range(random_search_best_params_ac['n_estimators']-30 , random_search_best_params_ac['n_estimators']+30,50) if x > 10],\n",
    "                     'learning_rate': [x for x in np.arange(random_search_best_params_ac['learning_rate']-0.001, random_search_best_params_ac['learning_rate']+0.001,.0001).round(5) if x >= 0.000],\n",
    "                     'base_estimator': [\n",
    "                                        DecisionTreeClassifier(max_depth=1),\n",
    "                                        DecisionTreeClassifier(max_depth=2),\n",
    "                                       ]   }\n",
    "\n",
    "best_grid_search_acmodel = GridSearchCV(\n",
    "                                        estimator=ada_classifier, \n",
    "                                        scoring='accuracy', \n",
    "                                        param_grid=param_grid_GS_rf, \n",
    "                                        cv=10, \n",
    "                                        verbose=0,  \n",
    "                                        n_jobs = -1\n",
    "                                      )\n",
    "_ = best_grid_search_acmodel.fit(X_train, y_train)\n",
    "                           \n",
    "                           \n",
    "y_pred_ac_GS = best_grid_search_acmodel.predict(X_test)\n",
    "results_ac_GS = pd.DataFrame()\n",
    "results_ac_GS['actual'] = y_test\n",
    "results_ac_GS['predicted'] = y_pred_ac_GS\n",
    "results_ac_GS.head(20)\n"
   ]
  },
  {
   "cell_type": "code",
   "execution_count": 90,
   "id": "49877364-21f8-4d94-b052-0024c3a53a27",
   "metadata": {
    "tags": []
   },
   "outputs": [
    {
     "name": "stdout",
     "output_type": "stream",
     "text": [
      "Best parameters found:  {'base_estimator': DecisionTreeClassifier(max_depth=2), 'learning_rate': 0.1006, 'n_estimators': 120}\n"
     ]
    }
   ],
   "source": [
    "grid_search_best_params_ac = best_grid_search_acmodel.best_params_\n",
    "print('Best parameters found: ', grid_search_best_params_ac)"
   ]
  },
  {
   "cell_type": "code",
   "execution_count": 91,
   "id": "cbe6cfc7-d7d9-4e1e-a549-52828da76bd9",
   "metadata": {
    "tags": []
   },
   "outputs": [
    {
     "name": "stdout",
     "output_type": "stream",
     "text": [
      "***Scores for Adaboost using grid Search***\n",
      "Adaboost using grid Accuracy: 0.9532163742690059\n",
      "Adaboost using grid Confusion Matrix: \n",
      "[[105   3]\n",
      " [  5  58]]\n",
      "Adaboost using grid Classification Report: \n",
      "              precision    recall  f1-score   support\n",
      "\n",
      "           0       0.95      0.97      0.96       108\n",
      "           1       0.95      0.92      0.94        63\n",
      "\n",
      "    accuracy                           0.95       171\n",
      "   macro avg       0.95      0.95      0.95       171\n",
      "weighted avg       0.95      0.95      0.95       171\n",
      "\n",
      "************************************************\n"
     ]
    }
   ],
   "source": [
    "# Accuracy\n",
    "accuracy_gs_ac = accuracy_score(y_test, y_pred_ac_GS)\n",
    "# Confusion Matrix\n",
    "conf_matrix_gs_ac = confusion_matrix(y_test, y_pred_ac_GS)\n",
    "# Classification Report\n",
    "class_report_gs_ac = classification_report(y_test, y_pred_ac_GS)\n",
    "print('***Scores for Adaboost using grid Search***')\n",
    "print(f'Adaboost using grid Accuracy: {accuracy_gs_ac}')\n",
    "print(f'Adaboost using grid Confusion Matrix: \\n{conf_matrix_gs_ac}')\n",
    "print(f'Adaboost using grid Classification Report: \\n{class_report_gs_ac}')\n",
    "print('************************************************')"
   ]
  },
  {
   "cell_type": "markdown",
   "id": "8643a6f7-25f1-47f0-8065-f8e1b36bb497",
   "metadata": {},
   "source": [
    "Using ROC curve to visualize the performance of models using Randomized Search. After looking at the graph we can say that the logistic regression and SVC have performed better. This can be seen by Area under Curve. More the area under curve better is the performance of model."
   ]
  },
  {
   "cell_type": "code",
   "execution_count": 55,
   "id": "32a927d3-b1b1-4698-869b-064c7d09460c",
   "metadata": {
    "tags": []
   },
   "outputs": [
    {
     "data": {
      "image/png": "[encoded data removed]",
      "text/plain": [
       "<Figure size 640x480 with 1 Axes>"
      ]
     },
     "metadata": {},
     "output_type": "display_data"
    }
   ],
   "source": [
    "ROC_RandomizedSearch= RocCurveDisplay.from_estimator(best_random_search_model,X_test,y_test,name='Decision Tree Randomized Search') \n",
    "RocCurveDisplay.from_estimator(best_random_SVC,X_test,y_test,ax=ROC_RandomizedSearch.ax_,name='SVC Randomized Search') \n",
    "RocCurveDisplay.from_estimator(best_log_Reg,X_test,y_test,ax=ROC_RandomizedSearch.ax_,name='Logistic Regression Randomized Search')\n",
    "RocCurveDisplay.from_estimator(best_random_rf,X_test,y_test,ax=ROC_RandomizedSearch.ax_,name='Random Forest Randomized Search')\n",
    "plt.title('ROC graph for Random Search for different models', fontsize=24)\n",
    "plt.show()"
   ]
  },
  {
   "cell_type": "markdown",
   "id": "51af2350-cf85-47d6-9fda-b618442cf353",
   "metadata": {},
   "source": [
    "Using ROC curve to visualize the performance of models using Grid Search. After looking at the graph we can say that the logistic regression and SVC have performed better. This can be seen by Area under Curve. More the area under curve better is the performance of model."
   ]
  },
  {
   "cell_type": "code",
   "execution_count": 71,
   "id": "3ac50689-d8d5-4f5b-8d4e-5ffaba627e4d",
   "metadata": {
    "tags": []
   },
   "outputs": [
    {
     "data": {
      "image/png": "[encoded data removed]",
      "text/plain": [
       "<Figure size 640x480 with 1 Axes>"
      ]
     },
     "metadata": {},
     "output_type": "display_data"
    }
   ],
   "source": [
    "ROC_GRIDSearch= RocCurveDisplay.from_estimator(best_grid_search_model,X_test,y_test,name='Decision Tree Grid Search') \n",
    "RocCurveDisplay.from_estimator(best_grid_search_SVCmodel,X_test,y_test,ax=ROC_GRIDSearch.ax_,name='SVC Grid Search') \n",
    "RocCurveDisplay.from_estimator(best_grid_search_lrmodel,X_test,y_test,ax=ROC_GRIDSearch.ax_,name='Logistic Regression Grid Search')\n",
    "RocCurveDisplay.from_estimator(best_grid_search_rfmodel,X_test,y_test,ax=ROC_GRIDSearch.ax_,name='Random Forest Grid Search')\n",
    "plt.title('ROC graph for Grid Search for different models', fontsize=24)\n",
    "plt.show()"
   ]
  },
  {
   "cell_type": "markdown",
   "id": "6ce94361-d1d8-4cba-b25b-673c37d72854",
   "metadata": {},
   "source": [
    "In our analysis, we have decided to use accuracy as the performance metric because our dataset is well-balanced the ratio is 1.68:1, and both target variables are equally important. After evaluating the accuracy of various models, we found that the logistic regression performed the best. The optimal parameters for this model are 'max_iter': 4900, 'solver': 'lbfgs', resulting in an impressive accuracy of 97.07%. Given the significance of accuracy in our case, the Logistic Regression model with these parameters stands out as the top choice."
   ]
  },
  {
   "cell_type": "code",
   "execution_count": null,
   "id": "bc45db53-62b8-496d-b21e-d2b6d16228af",
   "metadata": {},
   "outputs": [],
   "source": []
  }
 ],
 "metadata": {
  "kernelspec": {
   "display_name": "Python 3 (ipykernel)",
   "language": "python",
   "name": "python3"
  },
  "language_info": {
   "codemirror_mode": {
    "name": "ipython",
    "version": 3
   },
   "file_extension": ".py",
   "mimetype": "text/x-python",
   "name": "python",
   "nbconvert_exporter": "python",
   "pygments_lexer": "ipython3",
   "version": "3.11.4"
  }
 },
 "nbformat": 4,
 "nbformat_minor": 5
}
